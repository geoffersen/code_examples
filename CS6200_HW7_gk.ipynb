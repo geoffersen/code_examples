{
 "cells": [
  {
   "cell_type": "code",
   "execution_count": 1,
   "metadata": {
    "ExecuteTime": {
     "end_time": "2020-08-09T01:19:53.020103Z",
     "start_time": "2020-08-09T01:19:50.416201Z"
    }
   },
   "outputs": [],
   "source": [
    "import os\n",
    "import pandas as pd\n",
    "from bs4 import BeautifulSoup\n",
    "import email as em\n",
    "import langdetect\n",
    "from elasticsearch import Elasticsearch, helpers\n",
    "import kibana\n",
    "from pprint import pprint\n",
    "import json\n",
    "import random\n",
    "from tqdm.notebook import tqdm\n",
    "import pandas as pd\n",
    "import sklearn\n",
    "from sklearn.model_selection import train_test_split\n",
    "import numpy as np\n",
    "from IPython.display import Markdown as md"
   ]
  },
  {
   "cell_type": "markdown",
   "metadata": {},
   "source": [
    "## Objective\n",
    "Build a Spam Classifier using Machine Learning and ElasticSearch.\n",
    "\n",
    "## Data\n",
    "\n",
    "Consider the trec07_spam set of documents annotated for spam, available “data resources”.\n",
    "First read and accept agreement at http://plg.uwaterloo.ca/~gvcormac/treccorpus07/. Then download the 255 MB Corpus (trec07p.tgz). The html data is in data/; the labels (\"spam\" or \"ham\") are in full/.  \n",
    "\n",
    "You have to think a bit about storage (recommended ElasticSearch, but not required). Definitely use library to clean the html into plain text before storage. You dont have to do stemming or skipping stopwords (up to you); eliminating some punctuation might be useful.\n",
    "\n",
    "Cleaning Data is Required: By \"unigram\" we mean an English word, so as part of reading/processing data there will be a filter step to remove anything that doesnt look like an English word or small number. Some mistake unigrams passing the filter are acceptable, if they look like words (e.x. \"artist_\", \"newyork\", \"grande\") as long as they are not overwhelming the set of valid unigrams. \n",
    "\n",
    "You can use any library/script/package for cleaning, or share your cleaning code (but only the cleaning code) with the other students. \n",
    "\n",
    "Make sure to have a field “label” with values “yes” or “no” (or \"spam\"/\"ham\") for each document.  \n",
    "\n",
    "Partition the spam data set into TRAIN 80% and TEST 20%. One easy way to do so is to add to each document in ES a field \"split\" with values either \"train\" or \"test\" randomly, following the 80%-20% rule. \n",
    "\n",
    "Thus there will be 2 feature matrices, one for training and one for testing (different documents, same exact columns/features). The spam/ham distribution is roughly a third ham and two thirds spam; you should have a similar distribution in both TRAIN and TEST sets."
   ]
  },
  {
   "cell_type": "code",
   "execution_count": 2,
   "metadata": {
    "ExecuteTime": {
     "end_time": "2020-08-09T01:19:53.090538Z",
     "start_time": "2020-08-09T01:19:53.022334Z"
    }
   },
   "outputs": [],
   "source": [
    "# Build spam dictionary\n",
    "\n",
    "spam = {}\n",
    "\n",
    "with open('/Users/gk/Desktop/Northeastern/MSDS/CS6200_Information_Retrieval/HW7/trec07p/full/index') as f:\n",
    "    text = f.readlines()\n",
    "    for line in text:\n",
    "        line_list = line.split('/')\n",
    "        spam_ham = line_list[0][:-3]\n",
    "        e_mail = line_list[2].rstrip('\\n')\n",
    "        \n",
    "        spam[e_mail] = spam_ham"
   ]
  },
  {
   "cell_type": "code",
   "execution_count": 3,
   "metadata": {
    "ExecuteTime": {
     "end_time": "2020-08-09T01:19:56.539364Z",
     "start_time": "2020-08-09T01:19:56.535068Z"
    }
   },
   "outputs": [],
   "source": [
    "def get_clean_body(message):\n",
    "    \n",
    "    ctype = message.get_content_type()\n",
    "    cdispo = str(message.get('Content-Disposition'))\n",
    "\n",
    "    if ctype == 'text/plain' and 'attachment' not in cdispo:\n",
    "        try:\n",
    "            body = message.get_payload()\n",
    "        except:\n",
    "            body = message.get_payload().decode()\n",
    "\n",
    "        return ' '.join(body.split())"
   ]
  },
  {
   "cell_type": "code",
   "execution_count": 4,
   "metadata": {
    "ExecuteTime": {
     "end_time": "2020-08-09T01:20:00.283453Z",
     "start_time": "2020-08-09T01:20:00.274096Z"
    }
   },
   "outputs": [],
   "source": [
    "directory = '/Users/gk/Desktop/Northeastern/MSDS/CS6200_Information_Retrieval/HW7/trec07p/data'\n",
    "random.seed(43)\n",
    "\n",
    "def docs_to_index():\n",
    "\n",
    "        \"\"\"Program to parse email files and, for each email, provide a format for Elasticsearch \n",
    "    indexing of some basic email data\"\"\"\n",
    "    \n",
    "        for filename in tqdm(os.listdir(directory), desc = \"files\"):\n",
    "            file_path = os.path.join(directory, filename)\n",
    "            with open(file_path, encoding=\"ISO-8859-1\") as f:\n",
    "\n",
    "                msg = em.message_from_file(f)            \n",
    "\n",
    "                if langdetect.detect(str(msg)) != 'en': # Skip if not English\n",
    "                    continue\n",
    "\n",
    "                subject = msg['Subject']\n",
    "                msg_from = msg['From']\n",
    "                msg_to = msg['To']\n",
    "                spam_ham = spam[filename]\n",
    "\n",
    "                if msg.is_multipart():\n",
    "                    for part in msg.walk():\n",
    "                        clean_body = get_clean_body(part)\n",
    "                else:\n",
    "                    clean_body = get_clean_body(msg)\n",
    "\n",
    "                # label the data for train and test\n",
    "                split_tuple = ('train','test')\n",
    "                train_test = random.choices(split_tuple, weights=(80, 20))\n",
    "\n",
    "                yield {\"_index\": \"sham\",\"_id\": filename,\"content\": clean_body, \"msg_from\": msg_from, \"msg_to\": msg_to, \n",
    "                       \"subject\": subject, \"spam_ham\": spam_ham, \"split\": train_test[0]}"
   ]
  },
  {
   "cell_type": "code",
   "execution_count": 6,
   "metadata": {
    "ExecuteTime": {
     "end_time": "2020-08-09T01:22:06.230479Z",
     "start_time": "2020-08-09T01:22:06.228624Z"
    }
   },
   "outputs": [],
   "source": [
    "# for output in docs_to_index():\n",
    "#     print(output,\"\\n\")"
   ]
  },
  {
   "cell_type": "code",
   "execution_count": 6,
   "metadata": {
    "ExecuteTime": {
     "end_time": "2020-08-03T02:08:14.837583Z",
     "start_time": "2020-08-03T02:08:14.820122Z"
    }
   },
   "outputs": [],
   "source": [
    "# Connect to Elasticsearch\n",
    "ES_HOST = {\"host\": \"localhost\", \"port\": 9200}\n",
    "es = Elasticsearch(hosts=[ES_HOST], verify_certs=True)\n",
    "if not es.ping():\n",
    "    raise ValueError(\"Connection failed\")"
   ]
  },
  {
   "cell_type": "code",
   "execution_count": 7,
   "metadata": {
    "ExecuteTime": {
     "end_time": "2020-08-03T02:08:15.696394Z",
     "start_time": "2020-08-03T02:08:15.693189Z"
    }
   },
   "outputs": [],
   "source": [
    "# Delete existing Elasticsearch index, if exists, and Create an index\n",
    "# request_body = {\n",
    "#     \"settings\" : {\n",
    "#         \"number_of_shards\": 1,\n",
    "#         \"number_of_replicas\": 1,\n",
    "#         \"analysis\": {\n",
    "#             \"filter\": {\n",
    "#                 \"english_stop\": {\n",
    "#                     \"type\": \"stop\",\n",
    "#                     \"stopwords_path\": \"my_stoplist.txt\"\n",
    "#                 }\n",
    "#             },\n",
    "#             \"analyzer\": {\n",
    "#                 \"stopped\": {\n",
    "#                     \"type\": \"custom\",\n",
    "#                     \"tokenizer\": \"standard\",\n",
    "#                     \"filter\": [\n",
    "#                         \"lowercase\",\n",
    "#                         \"english_stop\",\n",
    "#                         \"porter_stem\"\n",
    "#                     ]\n",
    "#                 }\n",
    "#             }\n",
    "#       }\n",
    "#     },\n",
    "#     \"mappings\": {\n",
    "#         \"properties\": {\n",
    "#             \"content\": {\n",
    "#                 \"type\": \"text\",\n",
    "#                 \"fielddata\": True,\n",
    "#                 \"analyzer\": \"stopped\",\n",
    "#                 \"index_options\": \"positions\"\n",
    "#             },\n",
    "#             \"msg_from\":{\n",
    "#                 \"type\": \"text\"\n",
    "#             },\n",
    "#             \"msg_to\":{\n",
    "#                 \"type\": \"text\"\n",
    "#             },\n",
    "#             \"subject\":{\n",
    "#                 \"type\": \"text\",\n",
    "#                 \"fielddata\": True,\n",
    "#                 \"analyzer\": \"stopped\",\n",
    "#                 \"index_options\": \"positions\"\n",
    "#             },\n",
    "#             \"spam_ham\":{\n",
    "#                 \"type\": \"text\"\n",
    "#             },\n",
    "#             \"split\":{\n",
    "#                 \"type\": \"text\"\n",
    "#             }\n",
    "#         }\n",
    "#     }\n",
    "# }\n",
    "\n",
    "# if es.indices.exists('sham'):\n",
    "#     es.indices.delete(index = 'sham')\n",
    "\n",
    "# es.indices.create(index = 'sham', body = request_body)"
   ]
  },
  {
   "cell_type": "code",
   "execution_count": 8,
   "metadata": {
    "ExecuteTime": {
     "end_time": "2020-08-03T02:08:15.878397Z",
     "start_time": "2020-08-03T02:08:15.876340Z"
    }
   },
   "outputs": [],
   "source": [
    "# Parse emails, with docs_to_index(), and load them to the index\n",
    "\n",
    "# helpers.bulk(es, docs_to_index())"
   ]
  },
  {
   "cell_type": "code",
   "execution_count": 9,
   "metadata": {
    "ExecuteTime": {
     "end_time": "2020-08-03T02:08:22.374824Z",
     "start_time": "2020-08-03T02:08:16.827650Z"
    }
   },
   "outputs": [],
   "source": [
    "email_list = [data['_id'] for data in helpers.scan(client = es, query = {\"query\": {\"match_all\": {}}}, index=\"sham\")]"
   ]
  },
  {
   "cell_type": "markdown",
   "metadata": {},
   "source": [
    "## Part1: Manual Spam Features\n",
    "\n",
    "### Train a learning algorithm\n",
    "\n",
    "The label, or outcome, or target are the spam annotation “yes” / “no” or you can replace that with 1/0.\n",
    "\n",
    "Using the “train” queries static matrix, train a learner to compute a model relating labels to the features on TRAIN set. You can use a learning library like SciPy/NumPy, C4.5, Weka, LibLinear, SVM Light, etc. The easiest models are linear regression and decision trees.\n",
    "\n",
    "### Test the spam model\n",
    "\n",
    "Test the model on TEST set. You will have to create a testing data matrix with feature values in the same exact way as you created the training matrix: use ElasticSearch (or as approrpiate for your storage) to query for your features, use the scores are feature values.Remember that features have to be consistent across train and test data.\n",
    "\n",
    "    Run the model to obtain scores\n",
    "    Treat the scores as coming from an IR function, and rank the documents\n",
    "    Display first few “spam” documents and visually inspect them. You should have these ready for demo. IMPORTANT : Since they are likely to be spam, if you display these in a browser, you should turn off javascript execution to protect your computer.\n",
    "\n",
    "### Train/Test 3 Algorithms\n",
    "\n",
    "    (1) decision tree-based\n",
    "    (2) regression-based\n",
    "    (3) Naive-Bayes\n"
   ]
  },
  {
   "cell_type": "code",
   "execution_count": 10,
   "metadata": {
    "ExecuteTime": {
     "end_time": "2020-08-03T02:08:22.381290Z",
     "start_time": "2020-08-03T02:08:22.376436Z"
    }
   },
   "outputs": [],
   "source": [
    "def get_term_freq(term,doc):\n",
    "    \n",
    "    body = {\"fields\" : [\"content\"],\"offsets\" : False,\"positions\" : True,\"term_statistics\" : True,\\\n",
    "            \"field_statistics\" : True}\n",
    "\n",
    "    results = es.termvectors(index = \"sham\", body = body, id = doc)\n",
    "\n",
    "    output = results['term_vectors']['content']['terms'][term]\n",
    "\n",
    "    return output['term_freq']  #, output['doc_freq'], output['ttf']\n",
    "\n",
    "\n",
    "def get_w_docs(term):\n",
    "    \n",
    "    search_body = {\"query\": {\"match\":{\"content\": term}},}\n",
    "    \n",
    "    return [item['_id'] for item in helpers.scan(es, index=\"sham\", query=search_body, _source = False)]"
   ]
  },
  {
   "cell_type": "code",
   "execution_count": 11,
   "metadata": {
    "ExecuteTime": {
     "end_time": "2020-08-03T02:08:22.386580Z",
     "start_time": "2020-08-03T02:08:22.383370Z"
    }
   },
   "outputs": [],
   "source": [
    "def get_email_data(email_id):\n",
    "    \n",
    "    search_body = {\"query\": {\"match\":{\"_id\": email_id}},}\n",
    "\n",
    "    result = helpers.scan(es, index=\"sham\", query=search_body)\n",
    "\n",
    "    for i in result:\n",
    "        \n",
    "        s = i['_source']\n",
    "\n",
    "        return i['_id'], s['msg_from'], s['msg_to'], s['subject'],  s['content'] "
   ]
  },
  {
   "cell_type": "code",
   "execution_count": 12,
   "metadata": {
    "ExecuteTime": {
     "end_time": "2020-08-03T02:08:22.392053Z",
     "start_time": "2020-08-03T02:08:22.388486Z"
    }
   },
   "outputs": [],
   "source": [
    "def get_tf_per_term(term_list):\n",
    "\n",
    "    doc_data = {}\n",
    "\n",
    "    for i in tqdm(term_list, desc = \"terms\"):\n",
    "        for j in get_w_docs(i):\n",
    "            try:\n",
    "                tf = get_term_freq(i,j)\n",
    "            except:\n",
    "                tf = 0\n",
    "\n",
    "            if j in doc_data:\n",
    "                doc_data[j].append((i,tf))\n",
    "            else:\n",
    "                doc_data[j] = [(i,tf)]\n",
    "    \n",
    "    return doc_data"
   ]
  },
  {
   "cell_type": "code",
   "execution_count": 13,
   "metadata": {
    "ExecuteTime": {
     "end_time": "2020-08-03T02:08:22.397650Z",
     "start_time": "2020-08-03T02:08:22.393581Z"
    }
   },
   "outputs": [],
   "source": [
    "def build_feature_matrix(doc_dict, emails):\n",
    "    \n",
    "    feature_list = []\n",
    "    spam_list = []\n",
    "\n",
    "    for email in tqdm(emails, desc = \"emails\"):\n",
    "        if email in doc_dict:\n",
    "            feat_dict = {item[0] : item[1] for item in doc_dict[email]}\n",
    "            spam_list.append(spam[email])\n",
    "            feature_list.append(feat_dict)\n",
    "\n",
    "    df = pd.DataFrame(feature_list, index = [x for x in emails if x in doc_dict]).fillna(0)\n",
    "    df = df.assign(spam_ham=spam_list)\n",
    "    \n",
    "    return df"
   ]
  },
  {
   "cell_type": "code",
   "execution_count": 33,
   "metadata": {
    "ExecuteTime": {
     "end_time": "2020-08-03T02:09:56.640959Z",
     "start_time": "2020-08-03T02:09:56.630612Z"
    }
   },
   "outputs": [],
   "source": [
    "from sklearn.ensemble import RandomForestClassifier\n",
    "from sklearn.linear_model import LogisticRegression\n",
    "from sklearn.naive_bayes import BernoulliNB\n",
    "from sklearn.model_selection import cross_val_score\n",
    "\n",
    "def run_trials(x_tr, y_tr, x_tst, y_tst, num, model):\n",
    "\n",
    "    if model == 'rand_forest':\n",
    "        result = RandomForestClassifier(n_estimators=10, max_depth=None, min_samples_split=2, random_state=43)\n",
    "\n",
    "    if model == 'log_reg':\n",
    "        result = LogisticRegression(solver='lbfgs',class_weight = 'auto', max_iter=200, random_state=43)\n",
    "\n",
    "    if model == 'naive_b':\n",
    "        result = BernoulliNB()\n",
    "\n",
    "    result_cross_val = cross_val_score(result, x_tr, y_tr, scoring='accuracy', cv=5).mean()\n",
    "    result.fit(x_tr, y_tr)\n",
    "    result.predict(x_tst)\n",
    "    predictions = result.predict_proba(x_tst)\n",
    "    score = result.score(x_tst,y_tst)\n",
    "    \n",
    "    rel_pred = [i[1] for i in predictions]\n",
    "    doc_proba_list  = [(doc, rel_prob) for doc, rel_prob in zip(x_tst.index.tolist(), rel_pred)]\n",
    "    output = sorted(doc_proba_list, key=lambda tup: tup[1], reverse = True)[:3]\n",
    "\n",
    "    for i in output:\n",
    "        email_id, email_from, email_to, email_subject, email_content = get_email_data(i[0])\n",
    "        \n",
    "        print(email_id, \"\\n\", \"From: \", email_from, \"\\n\",\"To: \", email_to, \"\\n\", \"Subject: \",email_subject,\n",
    "              \"\\n\", email_content, \"\\n\")\n",
    "        \n",
    "    print(\"Score: \", score)"
   ]
  },
  {
   "cell_type": "markdown",
   "metadata": {},
   "source": [
    "## Trial A\n",
    "Manually create a list of ngrams (unigrams, bigrams, trigrams, etc) that you think are related to spam. For example : “free” , “win”, “porn”, “click here”, etc. These will be the features (columns) of the data matrix. "
   ]
  },
  {
   "cell_type": "code",
   "execution_count": 34,
   "metadata": {
    "ExecuteTime": {
     "end_time": "2020-08-03T02:09:57.930253Z",
     "start_time": "2020-08-03T02:09:57.926943Z"
    }
   },
   "outputs": [],
   "source": [
    "trial_a_list = ['direct', 'singles', 'babes', 'additional', 'income', 'boss', 'affordable', 'bargain',\n",
    "               'fast','cash', 'bankruptcy', 'creditors', 'acceptance', 'accordingly', 'avoid', 'baldness', \n",
    "                'diagnostics', 'viagra', 'free','amazing', 'access', 'apply']"
   ]
  },
  {
   "cell_type": "code",
   "execution_count": 35,
   "metadata": {
    "ExecuteTime": {
     "end_time": "2020-08-03T02:09:58.523981Z",
     "start_time": "2020-08-03T02:09:58.522111Z"
    }
   },
   "outputs": [],
   "source": [
    "# doc_data_a = get_tf_per_term(trial_a_list)"
   ]
  },
  {
   "cell_type": "code",
   "execution_count": 36,
   "metadata": {
    "ExecuteTime": {
     "end_time": "2020-08-03T02:09:59.009220Z",
     "start_time": "2020-08-03T02:09:59.006565Z"
    }
   },
   "outputs": [],
   "source": [
    "# with open('doc_data_a.json', 'w', encoding='utf-8') as f:\n",
    "#     json.dump(doc_data_a, f, ensure_ascii=False, indent=4)"
   ]
  },
  {
   "cell_type": "code",
   "execution_count": 37,
   "metadata": {
    "ExecuteTime": {
     "end_time": "2020-08-03T02:09:59.610281Z",
     "start_time": "2020-08-03T02:09:59.489476Z"
    }
   },
   "outputs": [],
   "source": [
    "with open('doc_data_a.json') as json_file:\n",
    "    doc_data_a = json.load(json_file)"
   ]
  },
  {
   "cell_type": "code",
   "execution_count": 38,
   "metadata": {
    "ExecuteTime": {
     "end_time": "2020-08-03T02:10:00.238082Z",
     "start_time": "2020-08-03T02:10:00.035173Z"
    }
   },
   "outputs": [
    {
     "data": {
      "application/vnd.jupyter.widget-view+json": {
       "model_id": "e06c39c7772b4625abb10a59340515c1",
       "version_major": 2,
       "version_minor": 0
      },
      "text/plain": [
       "HBox(children=(IntProgress(value=0, description='emails', max=73588, style=ProgressStyle(description_width='in…"
      ]
     },
     "metadata": {},
     "output_type": "display_data"
    },
    {
     "name": "stdout",
     "output_type": "stream",
     "text": [
      "\n"
     ]
    }
   ],
   "source": [
    "trial_a_df = build_feature_matrix(doc_data_a, email_list)"
   ]
  },
  {
   "cell_type": "code",
   "execution_count": 39,
   "metadata": {
    "ExecuteTime": {
     "end_time": "2020-08-03T02:10:01.070760Z",
     "start_time": "2020-08-03T02:10:01.045885Z"
    }
   },
   "outputs": [],
   "source": [
    "X_train_a, X_test_a, y_train_a, y_test_a = train_test_split(trial_a_df.drop('spam_ham',axis = 1),\n",
    "                                                    trial_a_df['spam_ham'], test_size=0.2, random_state=43)"
   ]
  },
  {
   "cell_type": "markdown",
   "metadata": {},
   "source": [
    "#### Random Forest"
   ]
  },
  {
   "cell_type": "code",
   "execution_count": 40,
   "metadata": {
    "ExecuteTime": {
     "end_time": "2020-08-03T02:10:03.544622Z",
     "start_time": "2020-08-03T02:10:02.883650Z"
    }
   },
   "outputs": [
    {
     "name": "stdout",
     "output_type": "stream",
     "text": [
      "inmail.49357 \n",
      " From:  \"Malisa Longgood\" <fulanistillbirth@sebraego.com.br> \n",
      " To:  <theplg@flax9.uwaterloo.ca> \n",
      " Subject:  Re: \n",
      " http://planshow.hk Viagra 4 pills X 100 mg FREE for every order! Special packs: - Soma 30 pills X 350 mg $ 42.08- Viagra 10 pills x 100 mg + Cialis 10 pills x 20 mg $68.72 - Viagra 30 pills X 100 mg $ 88.5 Viagra Our price $1.86 Viagra Soft Tabs Our price $1.08 Cialis Soft Tabs Our price $3.93 Levitra Our price $2.71 Viagra Jelly Our price $2.31 Cialis Our price $2.69 Lipitor Our price $1.38 Ultram Our price $0.71 Soma Our price $0.42 Zocor Our price $0.95 Zoloft Our price $0.92 Prozac Our price $1.99 Herbal Phentermine Our price $0.83 Testosterone Our price $3.67 Celebrex Our price $0.75 http://planshow.hk \n",
      "\n",
      "inmail.32012 \n",
      " From:  \"Francisco Bishop\" <gcraig@1-call.com> \n",
      " To:  <catchall@flax9.uwaterloo.ca> \n",
      " Subject:  Re: \n",
      " Glad to see you!Look at the assortment of our new virtual pharmacy store=20= and save upto 85%We have special offers for you: VIAGRA FOR AS LOW AS=20= $1.62 CIALAS FOR AS LOW AS $4.38 LEVITRA FOR AS LOW AS $4.44 ... and much much more surprises for you=20= today.IT=92LL TAKE 15 MINUTES TO BE READY FOR ACTION. - Most needed=20= medications are available (Viagra, Cialas, Levitra, Propecia and much=20= much more ) - Free shipping worlwide - No Doctor Visits - No Prescriptions - 100% Customer SatisfactionClick here to visit our new=20= drugstore!Best regards. \n",
      "\n",
      "inmail.54245 \n",
      " From:  \"Osbert MacIntire\" <ujungpandangunscrupulous@trcle.com> \n",
      " To:  <fantasy@flax9.uwaterloo.ca> \n",
      " Subject:  For Fantasy \n",
      " with some an early with all Special Price: Viagra 10 Pills x 100 mg + Cialis 10 Pills x 20 mg Only $68.72 chefs on the to raise microclimate their of bringing Viagra catering the Pacific piquant, to teach, believer 10 pills x 50mg two $30.22 Patrick $3.03 per item all live mountain 30 pills x 50mg Murphy $60.23 school. $2.01 per item live Tucked their 60 pills x 50mg an early $111.65 sun-drenched $1.86 per item the farm fragrant, left 10 pills x 100mg farm $34.49 in Vancouver $3.45 per item between cooking yield 30 pills x 100mg basil, $88.5 and $2.95 per item all and the Pacific 60 pills x 100mg British $141.02 all $2.35 per item at Vista D'oro in order coast 90 pills x 100mg basil, $176.4 food $1.96 per item like chives, of bringing fresh-picked farm school. believer purple Viagra Soft Tabs a plate. and a nothing in Vancouver dream 10 pills x 50mg freshly $33.25 When $3.33 per item has a herbs, range, 30 pills x 50mg are a $66.25 mountain $2.21 per item fresh-picked of specialty Lee is 60 pills x 50mg to teach, $122.82 farm $2.05 per item cooking all to teach, 10 pills x 100mg on the $37.94 sun-drenched $3.8 per item live and of specialty 30 pills x 100mg basil, $97.35 their $3.25 per item the farm filled at Vista D'oro 60 pills x 100mg the Pacific $155.1 Lee is $2.59 per item filled a plate. dream 90 pills x 100mg children $194.04 their $2.16 per item nothing all with 10 years between range, sun-drenched closer Cialis Soft Tabs Local Columbia. some of bringing in order 10 pills x 20mg spicy $65.97 ago $6.6 per item Columbia. 12 sun-drenched 20 pills x 20mg basil, $109.73 believer $5.49 per item get yield \"Herbs 30 pills x 20mg has a $131.97 10 years $4.4 per item Carrying a tray purple 60 pills x 20mg fresh-picked $260.53 purple $4.34 per item Lee is farm. cooking 90 pills x 20mg dream $353.62 jobs $3.93 per item they fragrant, a tray a tray cooking in Langley, foods, all Cialis in order office farm nothing get 4 pills x 20mg and Lee $16.59 spicy $4.15 per item grown on the of specialty 10 pills x 20mg Lee is $39.19 in a $3.92 per item behind and roses basil, 20 pills x 20mg Patrick $76.68 Patrick $3.83 per item like 12 and a 30 pills x 20mg like $104.66 people $3.49 per item evokes school. in a 60 pills x 20mg ago $180.15 between $3 per item fresh-picked on the catering 90 pills x 20mg \"Herbs $242.06 and her $2.69 per item 12 that and the country purple people in a they Viagra Jelly has a foods, Hunter, filled \"Herbs 10 pills x 100mg their $30.02 the Pacific $3 per item spicy leads chives, 30 pills x 100mg to the $92.4 get $3.08 per item Columbia. all Murphy 60 pills x 100mg British $187.97 great $3.14 per item farm. cooking of bringing 90 pills x 100mg on cooking $207.9 leads $2.31 per item closer freshly Carrying Tucked they and a herb believer Levitra food like Morgan, leads nothing 10 pills x 20mg get $27.08 and the $2.71 per item Columbia. Columbia. British 20 pills x 20mg chefs $54.99 children $2.75 per item Lee is fresh-picked purchased 30 pills x 20mg cooking $82.01 that $2.73 per item on cooking summer herb 60 pills x 20mg they $164.36 chefs $2.74 per item Hunter, between fresh-picked 90 pills x 20mg in Vancouver $246.57 summer $2.74 per item in Langley, Golden Ears a plate. eat. yield filled on the and Lee Soma Patrick catering the Pacific on cooking coast 30 pills x 350mg Patrick $42.08 children $1.4 per item coast nothing Columbia. 60 pills x 350mg they $78.14 coast $1.3 per item purple eat. coast 90 pills x 350mg classes $111.8 they $1.24 per item the land freshly onto business, business, a tray and roses When Ultram yield British they a line on cooking 30 pills x 50mg chives, $39.57 of bringing $1.32 per item and Lee 10 years children 60 pills x 50mg spicy $42.84 Golden Ears $0.72 per item the Pacific they people 90 pills x 50mg and Lee $63.76 herb $0.71 per item between Lee is that left 12 business, evokes to the Prozac Patrick summer country that Patrick 30 pills x 10mg in the $73.24 bounty $2.44 per item grown farm. and roses 60 pills x 10mg chefs $131.45 10 years $2.19 per item way to Hunter, a tray 90 pills x 10mg a tray $178.62 evokes $1.99 per item freshly and the come 30 pills x 20mg nothing $66.78 herb $2.23 per item get mountain ago 60 pills x 20mg microclimate $127.7 12 $2.13 per item onto mountain at Vista D'oro 90 pills x 20mg an early $194.6 piquant, $2.16 per item freshly cooking a firm 30 pills x 40mg and $143.35 grown $4.78 per item sage, an early their 60 pills x 40mg children $274.87 to raise $4.58 per item Morgan, children jobs 90 pills x 40mg ago $393.72 their $4.37 per item and roses at Vista D'oro a tray 30 pills x 60mg they $159.3 Local $5.31 per item evokes and the of specialty 60 pills x 60mg husband, $294.22 behind $4.91 per item fresh-picked catering yield 90 pills x 60mg left $428.09 husband, $4.76 per item behind a line basil, Lee is great at Vista D'oro office 4 Viagra Pills FREE For Every Order on cooking between Morgan, yield 10 years \n",
      "\n",
      "Score:  0.6968926040341632\n"
     ]
    }
   ],
   "source": [
    "run_trials(X_train_a, y_train_a, X_test_a, y_test_a, 3, 'rand_forest')"
   ]
  },
  {
   "cell_type": "markdown",
   "metadata": {},
   "source": [
    "#### Logistic Regression"
   ]
  },
  {
   "cell_type": "code",
   "execution_count": 41,
   "metadata": {
    "ExecuteTime": {
     "end_time": "2020-08-03T02:10:09.851842Z",
     "start_time": "2020-08-03T02:10:09.247897Z"
    },
    "scrolled": true
   },
   "outputs": [
    {
     "name": "stdout",
     "output_type": "stream",
     "text": [
      "inmail.52647 \n",
      " From:  \"StockUpTicks\" <bounce-stockupticks-9828040G@lyris.stockupticks.com> \n",
      " To:  <gnitpick@flax9.uwaterloo.ca> \n",
      " Subject:  Expanding the Brand Naturally \n",
      " [Stockupticks.com] [Image] Welcome to the Stockupticks.com Newsletter! Issue 471 June 06, 2007 [Image] [Image] [Image] [Image] [Image] Clearly Canadian Beverage Corporation [Image] (OTCBB: CCBEF) Dear StockUpTicks Reader: A recent acquisition by a leading beverage company of an organic baby food producer would seem at first glance an odd pairing. This may well have been the perspective of some investors when Clearly Canadian (OTCBB:CCBEF) announced that the company completed its acquisition of My Organic Baby, which has national distribution in Canada for its organic baby food products. But when you consider the market for both products, the health-conscious consumer, it appears that My Organic Baby might be the perfect extension of the Clearly Canadian brand, literally introducing consumers to the company in their infancy. Recent comments from James Dines of The Dines Letter affirm this belief, stating, The course has been set (for Clearly Canadian) and the company fully understands and embraces the exponential benefits available through the continuous branding of Clearly Canadian as a recognizable and trusted name in the organic and natural sector. See Breaking NEWS Below [Image]>> [Image] *BREAKING* News From Clearly [Image] Canadian Press Release Source: Clearly Canadian Beverage Corporation Monday June 4, 8:41 am ET Clearly Canadian's Organic Products Takes off at Canadian Airports and Major Office Centres Organic Line to Be Sold in over 160 High Profile Retail Locations VANCOUVER, British Columbia--(BUSINESS WIRE)--Clearly Canadian (OTCBB:CCBEF - News; the \"Company\") is pleased to announce that its new line of Glengrove Organics dried fruit and nut products will be sold in all airports and many top office buildings across Canada through a new relationship with HDS Retail and its flagships outlets, \"Relay\", \"Great Canadian News\" and \"Express\". \"This agreement gives Glengrove Organics tremendous exposure, and provides another major step in the branding of our elite line of organic dried fruits and nuts,\" stated Brent Lokash, President of Clearly Canadian. \"HDS Retail has reported that 95% of people traveling into or through Canada via an airport will be exposed to their retail shops. This type of traffic creates an immense opportunity to build brand awareness, brand loyalty and increased sales with the potential for a great number of health conscious consumers to be continually viewing and buying products from the Glengrove Organics line.\" About Clearly Canadian Based in Vancouver, B.C., Clearly Canadian Beverage Corporation markets premium alternative beverages, including Clearly Canadian® sparkling flavoured waters and Clearly Canadian dailyEnergy, dailyVitamin and dailyHydration Natural Enhanced Waters which are distributed in the United States, Canada and various other countries. Since its inception, the Clearly Canadian brand has sold over 2 billion bottles worldwide. Clearly Canadian's recent acquisition of DMR Food Corporation and My Organic Baby Inc. marks the Company's debut into organic and natural products with a full line of organic baby and toddler foods under the brand names My Organic Baby and My Organic Toddler and a wide range of dried fruit and nut snacks offerings from SunRidge Farms, Naturalife, Sweet Selections, Simply by Nature and Glengrove Organics brands. Additional information about Clearly Canadian may be obtained at www.clearly.ca. Forward Looking Statements Statements in this news release that are not historical facts are forward-looking statements that are subject to risks and uncertainties. Words such as \"expects\", \"intends\", \"plans\", \"may\", \"could\", \"should\", \"anticipates\", \"likely\", \"believes\", \"estimates\", \"potential\", \"predicts\", \"continue\" and words of similar import also identify forward-looking statements. Forward-looking statements are based on current facts and analysis and other information that are based on forecasts of future results, estimates of amounts not yet determined and assumptions of management, including but not limited to, the belief in the revenue growth of its products. These assumptions are subject to many risks, and actual results may differ materially from those currently anticipated. These risks include, by way of example and not in limitation, general economic conditions, changing beverage consumption trends of consumers, the Company's ability to generate sufficient cash flows to support general operating activities and capital expansion plans, competition, pricing and availability of raw materials, the Company's ability to maintain the current and future retail listings for its beverage products and to maintain favorable supply, production and distribution arrangements, laws and regulations and changes thereto that may affect the way the Company's products are manufactured, distributed and sold and other factors beyond the reasonable control of the Company. Additional information on factors that may affect the business and financial results of the Company can be found in filings of the Company with the U.S. Securities and Exchange Commission and with the British Columbia and Ontario Securities Commissions. Contact: Clearly Canadian Beverage Corporation, Vancouver Shareholder Relations: Steve Cook, 800-983-0993 [Image] E-mail: investor@clearly.ca or Marketing: Carolyn Corcoran, 604-742-5318 Email: ccorcoran@clearly.ca Source: Clearly Canadian Beverage Corporation View ALL the Latest BREAKING NEWS From CCBEF here >>> [Image] About Clearly Canadian [Image] [Image] Since inception, Clearly Canadian has been highly regarded as a consistent beverage innovator with products/brands such as Orbitz (the first beverage with floating beads), Battery (one of the first energy drinks) and Reebok fitness water (one of the first vitamin enhanced waters). Clearly Canadian is well known as a leading producer of premium alternative beverages that all begin with one simple ingredient: pure, refreshing water. Its legendary line-up of naturally flavoured sparkling waters has sold over two billion bottles to date. Its newly-introduced line-up of premium, non-carbonated Natural Enhanced Waters are well positioned to make a lasting impression on the increasingly health-conscious beverage industry. In a strong indication that healthier premium beverages are supplanting soft drinks, Coca Cola (NYSE: KO) recently agreed to pay Glaceau, the maker of Vitaminwater, $4.2 billion in cash and stock. The NEW Clearly Canadian: A Family of Healthy Choices Clearly Canadians recent acquisitions mark the companys debut to entirely new and exciting food and beverage categories. This new direction began with the February 2007 acquisition of leading organic and snack food company Sweet Selections- opening up some complimentary snacking options to go with Clearly Canadians premium line-up of beverages. In May 2007, the company acquired My Organic Baby Inc.  Canadas first full nationwide line of organic baby food. This innovative and fast growing line has over 30 product offerings listed in leading baby food retailers across the country and expanding to the US. Clearly Canadian is well into a major transformation into a diversified, branded company focusing on the way of the future: healthy, natural and organic products. Clearly Canadian now owns a group of premium brands in the beverage, snack and baby food categories that make up its family of healthy choices. Clearly Canadian Brands Clearly Canadians recent acquisitions of DMR Food Corporation and My Organic Baby Inc. mark the companys debut into entirely new and exciting food and beverage categories. Clearly Canadian is well into a major transformation into a diversified, branded company focusing on the way of the future: healthy, natural and organic products. Snacks Baby Food [Image] [Image] [Image] [Image] Premium Alternative Beverages Clearly Canadian Clearly Canadian Sparkling Natural Enhanced [Image] [Image] [Image] New Brands and Products [Image] DMR Food Corp. / Sweet Selections The company recently announced that it had accelerated its efforts to further establish Clearly Canadian as a provider of healthy, good-for-you products with its recent acquisition of DMR Food Corporation. Operating under the name of Sweet Selections, DMR is the leading seller of organic and natural snack foods in Eastern Canada  an ideal complement to enjoy Clearly Canadian's diverse line-up of authentic fruit flavoured refreshments! Sweet Selections Product Line-up DMR / Sweet Selections offers a wide variety and tasty selection of organic and natural dried fruit and nut snacks under the following brand names: * Naturalife * SunRidge Farms * Sweet Selections * Simply by Nature * Glengrove Organics ----------- [Image] Clearly Canadian is thrilled to further establish itself as a provider of healthy, good-for-you products with its recent acquisition of My Organic Baby Inc. With current listings in Canadas leading national retailers of baby food and organic products, My Organic Baby has already established strong brand awareness. Intuitively, Organic Baby Inc. recognizes the notion that our children deserve the best quality nourishment possible. Organic farming is the purest practical way to minimize chemicals in food, environmental impact, combined with the highest standards of animal welfare. My Organic Baby is in a great position to capture the familys desire for organic products for their children. The innovative and fast growing line consists of over 30 product offerings: * Strained Foods * Juice * Cereal * Baby Formula * Fresh Baby Food * Organic Teething Biscuits >> ----------- NEW Natural Enhanced Waters! [Image]dailyHYDRATION  Pure non-carbonated water infused with a subtle, yet refreshing hint of organic citrus flavour and contains no sugar or artificial sweeteners. [Image]dailyENERGY - A clear non-carbonated drink electrified with taurine, inositol, caffeine and thirst-quenching natural fruit flavours. [Image]dailyVITAMIN - A clear non-carbonated water beverage enhanced with vitamins, minerals and bold natural fruit flavours. a[Image][Image][Image] NBA 2-TIME MVP Steve Nash has MAD skills! [Image] Watch Steve Nash's Amazing \"Kick-it\" Video HERE >>> [Image] 2007 Corporate Highlights [Image] Company Successfully Positioned in Hot Sector - Organics and Natural Double Digit Revenue Growth Expected in 2007 * Acquisition of My Organic Baby Inc., Canada's first full nation wide line of organic baby food * Innovative and fast growing line with over 30 product offerings listed in leading baby food retailers; anticipate 350% sales growth and addition of close to $5,000,000 to corporate revenue in 2007 * Successful launch of new beverage offerings, including Clearly Canadian Natural Enhanced Waters, with an organic line, targeting explosive healthy, alternative beverage sector * Already over $700,000 in sales of new products in just a few months since launch with listings in major convenience chains and grocery stores * Acquisition of DMR Food Corporation, Eastern Canada's leading organic and natural snack food company * Multiple well known brands selling in leading grocery and natural food stores with significant growth; expected to add close to $4,500,000 to corporate revenue in 2007 * Strong balance sheet as of April 30, 2007 with over $7,000,000 in cash and no debt * New and Improved Beverage Distribution Network * Addition of some of the largest, independent beverage distributors in the U.S., including major markets of New York, Boston and Chicago; on track to rapidly increase number of distributors, particularly in southwest and western regions of U.S. * Reality Television Show About Clearly Canadian in Progress * 4 episodes have been shot to date; Show promises to bring unprecedented exposure to Clearly Canadian's branded products when the show airs in early 2008 to millions and millions of viewers on a weekly basis * Signed American League MVP Justin Morneau to endorsement deal; joins two time, NBA MVP Steve Nash to roster of Clearly Canadian all-stars Click HERE to read the entire Shareholder Update >>> [Image] Recent News From Clearly Canadian [Image] Press Release Source: Clearly Canadian Beverage Corporation Friday May 25, 1:22 am ET Clearly Canadian Acquires My Organic Baby Innovative Organic Baby Food Company Emerging as Leader in Fast Growing Sector VANCOUVER, British Columbia--(BUSINESS WIRE)--CLEARLY CANADIAN (OTCBB: CCBEF - News), is pleased to announce it has completed the acquisition of My Organic Baby Inc. (www.myorganicbaby.ca), Canada's first full nation wide line of organic baby food. \"My Organic Baby is an incredible opportunity and provides yet another vehicle for top line revenue growth for Clearly Canadian,\" stated Brent Lokash, President of Clearly Canadian. \"Consumer spending on baby products has shown double digit growth during the last five years and more consumers are making the change to organic, especially where their children are concerned. Nothing is more important for a baby's positive development than healthy and nutritious food. With national retail distribution and its wide product offerings, My Organic Baby is in a great position to capture the family's desire for organic products for their children.\" My Organic Baby's founders, David Reingold and Orlee Muroff will be joining the Clearly Canadian team and will play a critical role in expanding My Organic Baby. This will include the introduction of an organic product line for toddlers under the name My Organic Toddler and overseeing the roll out of all My Organic Baby's products into the massive U.S. market place. You may read the entire news release HERE ----------- Press Release Source: Clearly Canadian Beverage Corporation Tuesday February 20, 8:56 am ET Glengrove Organics Set to Launch in Loblaws - Canada's Largest Grocery Chain Glengrove Organics is One of the Recently Acquired Brand Names Now Owned by Clearly Canadian Through Its Acquisition of DMR Food Corporation VANCOUVER, British Columbia--(BUSINESS WIRE)--Clearly Canadian Beverage Corporation (OTCBB:CCBEF - News) is pleased to announce Glengrove Organics large bag format will begin selling in the Loblaws' Natural Value departments in March 2007. This program features one pound packages of such core organic items as raisins, sunflower and pumpkin seeds and an assorted dried fruit and nut mix. Glengrove Organics will initially be packed in sizes of approximately one pound or larger with future line extensions to include smaller packs aimed at the single serve snack category. David Reingold, President of DMR Food's, stated, \"We are delighted by the acceptance of this new program from an organization such as Loblaws. A leader in the health food category with stores from coast to coast, Loblaws is the largest food distributor in Canada. We are confident these large pack sizes will attract traditional bulk dried fruit and nut customers as a much more convenient packaging alternative.\" Reingold continued, \"I am convinced about the potential that the Glengrove product line has in today's marketplace. Our launch in Loblaws further validates our formula of starting with a quality product and adding great packaging, reliable delivery and excellent service.\" You may read the entire news release HERE ----------- Press Release Source: Clearly Canadian Beverage Corporation Wednesday February 7, 10:30 am ET Clearly Canadian Acquires Eastern Canada's Leading Organic Snack Company Management Sees Diversity and Synergy Resulting from Strategic Acquisition VANCOUVER, British Columbia--(BUSINESS WIRE)--Clearly Canadian Beverage Corporation (OTCBB:CCBEF - News), (the \"Company\"), is pleased to announce it has acquired DMR Food Corporation. Operating under the name Sweet Selections, DMR is the leading seller of organic and natural snack foods in Eastern Canada. \"With the recent introduction of our Clearly Canadian Natural Enhanced Waters, including dailyEnergy, dailyVitamin and dailyHydration, a certified organic essence water, this acquisition accelerates our efforts to further establish Clearly Canadian as a provider of healthy, good-for-you, products,\" said Brent Lokash, President of Clearly Canadian. \"We see great upside in Sweet Selection's business over the next several years as retailers are placing a major emphasis on organic and natural products. With a growth rate of over 25% per year and a strong presence in Canada's largest grocery chains, Sweet Selections is an ideal complement to Clearly Canadian's brand recognition and established presence in the beverage sector. This combination creates a host of opportunities to penetrate our key markets and fulfills our stated objective to enter into the complementary snack food market.\" Mr. Lokash added, \"Our model for growth into the organic and natural foods market is to emulate what Pepsi/Frito Lay has done so well over the years in connecting beverages and snack food. We believe the combination of these two companies will provide a host of strategic opportunities to penetrate this exploding market and create value for our shareholders. Sweet Selections is a fast growing and profitable company. This acquisition will nearly double top line revenues with little immediate dilution to our shareholders.\" In connection with the acquisition of Sweet Selections, the Company has paid $450,000 CDN upon closing of the transaction; 3,000,000 warrants to purchase the Company's common shares at a purchase price of US $4.00 per share, provided that if a gain of $2,550,000 CDN is not realized from a sale of the warrants within 1 year from their sale of the warrant shares, the Company will pay any shortfall; and $450,000 CDN payable over 3 years. In addition, the Company has entered into a 3 year consulting agreement to retain the services of Sweet Selection's founder, David Reingold. You may view the entire news relaese HERE [Image] Financial Highlights For Clearly [Image] Canadian [Image] Recent Price $2.72 (06/06/07) Ave. Volume 293,659 (3 mo. ave.) 52 Wk High $4.55 - 52 Wk Low $2.00 Market Cap: $51.3 m (approx) Shares Outstanding: 19 M (as of March 31, 2007) [Image] one year chart - courtesy of BigCharts To view the latest filings from Clearly Canadian on the SEC Web site, Click Here a Clearly Canadian is a fully reporting company. FYE 12/31. CLEARLY CANADIAN BEVERAGE CORPORATION is the registered holder of various trademarks, including CLEARLY CANADIAN®. CLEARLY CANADIAN and its wholly owned subsidiaries, produce, distribute and market CLEARLY CANADIAN® and CANADIAN O+2®. Shareholder Assistance, Registrar and Transfer Agent: Pacific Corporate Trust Company Auditor UHY LDMB Advisors Inc. Chartered Accountants. Langley, British Columbia, Canada a [Image] TO CONTACT CLEARLY CANADIAN [Image] [Image] 2267 W. 10th Avenue West Vancouver, BC, Canada V6K 2J1 Investor Relations Steve Cook USA and Canada: 800.983.0993 E-mail: investor@clearly.ca Clearly Canadian Web site: www.clearly.ca Unsubscribe Here -------------------------------------------------------- [Image] *** The Bull is Running. *** There may never be a better time to feature YOUR company to over 1 MILLION investors. MEET YOUR STOCKUPTICKS EDITORS! Join us in Vancouver B.C. for one of the best investment conferences you'll ever attend [Image] StockUpTicks Readers can Pre-Register for FREE - Just click HERE [Image][Image] -------------------------------------------------------- To learn more about our programs email us directly at info@stockupticks.com [Image] -------------------------------------------------------- Stockupticks Safe Harbor Statement: Statements contained in this document, including those pertaining to estimates and related plans, potential mergers and acquisitions, estimates, growth, establishing new markets, expansion into new markets and related plans other than statements of historical fact, are forward-looking statements subject to a number of uncertainties that could cause actual results to differ materially from statements made. StockUpTicks.com is a property of Market Pathways Financial Relations Incorporated (MP). MP provides no assurance as to the subject company's plans or ability to effect any planned and/or proposed actions. MP has no first-hand knowledge of management and therefore cannot comment on its capabilities, intent, resources, nor experience and makes no attempt to do so. Statistical information, dollar amounts, and market size data was provided by the subject company and related sources believed by MP to be reliable, but MP provides no assurance, and none is given, as to the accuracy and completeness of this information. Disclaimer: StockUpTicks.com is a property of Market Pathways Financial Relations Incorporated (MP). The information, opinions and analysis contained herein are based on sources believed to be reliable but no representation, expressed or implied, is made as to its accuracy, completeness or correctness. Past performance is no guarantee of future results. This report is a paid advertisement and is for information purposes only and should not be used as the basis for any investment decision. MP has been paid thirty five thousand dollars by Clearly Canadian for preparation and distribution of this report and other advertising services over a ninety day period. This constitutes a conflict of interest as to MPs ability to remain objective in its communication regarding the subject company. Write or call MP for detailed disclosure as required by Rule 17b of the Securities Act of 1933/1934 - Market Pathways 17595 Harvard Ave., Suite C519 Irvine, CA 92614. MP is not an investment advisor and this report is not investment advice. This information is neither a solicitation to buy nor an offer to sell securities but is a paid advertisement. Information contained herein contains forward-looking statements and is subject to significant risks and uncertainties, which will affect the results. The opinions contained herein reflect our current judgment and are subject to change without notice. MP and/or its affiliates, associates and employees from time to time may have either a long or short position in securities mentioned. Information contained herein may not be reproduced in whole or in part without the express written consent of Market Pathways Financial Relations Incorporated. [Image] [Image] [Image] [Image] © Stockupticks 2007,[Image] All rights reserved [Image] To unsubscribe from this newsletter click here and then hit SEND. If you are using a text based email reader or the previous method does not work, please follow the instructions located below. --- You are currently subscribed to stockupticks as: gnitpick@speedy.uwaterloo.ca To unsubscribe send a blank email to leave-stockupticks-9828040G@lyris.stockupticks.com \n",
      "\n",
      "inmail.49357 \n",
      " From:  \"Malisa Longgood\" <fulanistillbirth@sebraego.com.br> \n",
      " To:  <theplg@flax9.uwaterloo.ca> \n",
      " Subject:  Re: \n",
      " http://planshow.hk Viagra 4 pills X 100 mg FREE for every order! Special packs: - Soma 30 pills X 350 mg $ 42.08- Viagra 10 pills x 100 mg + Cialis 10 pills x 20 mg $68.72 - Viagra 30 pills X 100 mg $ 88.5 Viagra Our price $1.86 Viagra Soft Tabs Our price $1.08 Cialis Soft Tabs Our price $3.93 Levitra Our price $2.71 Viagra Jelly Our price $2.31 Cialis Our price $2.69 Lipitor Our price $1.38 Ultram Our price $0.71 Soma Our price $0.42 Zocor Our price $0.95 Zoloft Our price $0.92 Prozac Our price $1.99 Herbal Phentermine Our price $0.83 Testosterone Our price $3.67 Celebrex Our price $0.75 http://planshow.hk \n",
      "\n",
      "inmail.49994 \n",
      " From:  \"Prosenjit Means\" <preaknesstachometers@onlink.net> \n",
      " To:  <fantasy@flax9.uwaterloo.ca> \n",
      " Subject:  Re: \n",
      " http://perhapsspeed.hk Viagra 4 pills X 100 mg FREE for every order! Special packs: - Viagra 30 pills X 100 mg $88.5 - Viagra 10 pills x 100 mg + Cialis 10 pills x 20 mg $ 68.72 - Soma 30 pills X 350 mg $ 42.08 Viagra Soft Tabs Our price $1.08 Cialis Soft Tabs Our price $3.93 Viagra Our price $1.86 Cialis Our price $2.69 Levitra Our price $2.71 Viagra Jelly Our price $2.31 Lipitor Our price $1.38 Ultram Our price $0.71 Soma Our price $0.42 Prozac Our price $1.99 Zocor Our price $0.95 Zoloft Our price $0.92 Celebrex Our price $0.75 Herbal Phentermine Our price $0.83 Testosterone Our price $3.67 http://perhapsspeed.hk \n",
      "\n",
      "Score:  0.6801744502998365\n"
     ]
    }
   ],
   "source": [
    "run_trials(X_train_a, y_train_a, X_test_a, y_test_a, 3, 'log_reg')"
   ]
  },
  {
   "cell_type": "markdown",
   "metadata": {},
   "source": [
    "#### Naive Bayes (Bernoulli)"
   ]
  },
  {
   "cell_type": "code",
   "execution_count": 42,
   "metadata": {
    "ExecuteTime": {
     "end_time": "2020-08-03T02:10:11.779824Z",
     "start_time": "2020-08-03T02:10:11.161165Z"
    }
   },
   "outputs": [
    {
     "name": "stdout",
     "output_type": "stream",
     "text": [
      "inmail.69548 \n",
      " From:  K Carpenter <gpov@bluedolphin.com> \n",
      " To:  soundtrackdeficient@flax9.uwaterloo.ca \n",
      " Subject:  Digital cameras and camcorders \n",
      " FDA approved on-line pharmacies.click here Chose your product and site below: Canadian pharmacy - Cialis Soft Tabs - $5.78, Viagra Professional - $4.07, Viagra Soft Tabs - $4.1, Cialis - $5.67, Generic Viagra - $3.5, Soma - $1.38, Human Growth Hormone - $43.37, Meridia - $3.32, Tramadol - $2.17, Levitra - $11.97. HerbalKing - Herbal pills for Penis enlargement. Techniques, procedures, videos and tutorials. Don't waste your money on ineffective and possibly dangerous pumps, exercises and surgeries. Anatrim - Are you ready for Summer? Use Anatrim, the most powerful fat loss blend available anywhere. Safe, fast, effective! \n",
      "\n",
      "inmail.19413 \n",
      " From:  Zachary Benson <walsh@golf67.net> \n",
      " To:  Captains <captains@flax24.uwaterloo.ca> \n",
      " Subject:  FDA approved on-line pharmacies \n",
      " FDA approved on-line pharmacies.click here Chose your product and site below: Canadian pharmacy - Cialis Soft Tabs - $5.78, Viagra Professional - $4.07, Viagra Soft Tabs - $4.1, Cialis - $5.67, Generic Viagra - $3.5, Soma - $1.38, Human Growth Hormone - $43.37, Meridia - $3.32, Tramadol - $2.17, Levitra - $11.97. HerbalKing - Herbal pills for Penis enlargement. Techniques, procedures, videos and tutorials. Don't waste your money on ineffective and possibly dangerous pumps, exercises and surgeries. Anatrim - Are you ready for Summer? Use Anatrim, the most powerful fat loss blend available anywhere. Safe, fast, effective! \n",
      "\n",
      "inmail.11770 \n",
      " From:  Adam Melendez <mccray@gmpartsdirect.com> \n",
      " To:  Ktwarwic <ktwarwic@speedy.uwaterloo.ca> \n",
      " Subject:  FDA approved on-line pharmacies \n",
      " FDA approved on-line pharmacies.click here Chose your product and site below: Canadian pharmacy - Cialis Soft Tabs - $5.78, Viagra Professional - $4.07, Viagra Soft Tabs - $4.1, Cialis - $5.67, Generic Viagra - $3.5, Soma - $1.38, Human Growth Hormone - $43.37, Meridia - $3.32, Tramadol - $2.17, Levitra - $11.97. HerbalKing - Herbal pills for Penis enlargement. Techniques, procedures, videos and tutorials. Don't waste your money on ineffective and possibly dangerous pumps, exercises and surgeries. Anatrim - Are you ready for Summer? Use Anatrim, the most powerful fat loss blend available anywhere. Safe, fast, effective! \n",
      "\n",
      "Score:  0.6660003634381246\n"
     ]
    }
   ],
   "source": [
    "run_trials(X_train_a, y_train_a, X_test_a, y_test_a, 3, 'naive_b')"
   ]
  },
  {
   "cell_type": "markdown",
   "metadata": {},
   "source": [
    "## Trial B\n",
    "\n",
    "Instead of using your unigrams, use the ones from this list; rerun the training and testing."
   ]
  },
  {
   "cell_type": "code",
   "execution_count": 43,
   "metadata": {
    "ExecuteTime": {
     "end_time": "2020-08-03T02:10:16.718037Z",
     "start_time": "2020-08-03T02:10:16.712403Z"
    }
   },
   "outputs": [],
   "source": [
    "trial_b_list = ['free','spam','click','buy','clearance','shopper','order','earn','cash','extra','money','double',\n",
    "               'collect','credit','check','affordable','fast','price','loans','profit','refinance','hidden','freedom',\n",
    "               'chance','miracle','lose','home','remove','success','virus','malware','ad','subscribe','sales',\n",
    "               'performance','viagra','valium','medicine','diagnostics','million','join','deal','unsolicited','trial',\n",
    "               'prize','now','legal','bonus','limited','instant','luxury','legal','celebrity','only','compare','win',\n",
    "               'viagra','$$$','$discount','click','here','meet','singles','incredible','deal','lose','weight','act',\n",
    "               'now','100%','free','fast','cash','million','dollars','lower','interest','rate','visit','our',\n",
    "               'website','no','credit','check']"
   ]
  },
  {
   "cell_type": "code",
   "execution_count": 44,
   "metadata": {
    "ExecuteTime": {
     "end_time": "2020-08-03T02:10:16.913364Z",
     "start_time": "2020-08-03T02:10:16.910648Z"
    }
   },
   "outputs": [],
   "source": [
    "# doc_data_b = get_tf_per_term(trial_b_list)"
   ]
  },
  {
   "cell_type": "code",
   "execution_count": 45,
   "metadata": {
    "ExecuteTime": {
     "end_time": "2020-08-03T02:10:17.273637Z",
     "start_time": "2020-08-03T02:10:17.271780Z"
    }
   },
   "outputs": [],
   "source": [
    "# with open('doc_data_b.json', 'w', encoding='utf-8') as f:\n",
    "#     json.dump(doc_data_b, f, ensure_ascii=False, indent=4)"
   ]
  },
  {
   "cell_type": "code",
   "execution_count": 46,
   "metadata": {
    "ExecuteTime": {
     "end_time": "2020-08-03T02:10:17.735812Z",
     "start_time": "2020-08-03T02:10:17.503644Z"
    }
   },
   "outputs": [],
   "source": [
    "with open('doc_data_b.json') as json_file:\n",
    "    doc_data_b = json.load(json_file)"
   ]
  },
  {
   "cell_type": "code",
   "execution_count": 47,
   "metadata": {
    "ExecuteTime": {
     "end_time": "2020-08-03T02:10:18.636063Z",
     "start_time": "2020-08-03T02:10:17.911756Z"
    }
   },
   "outputs": [
    {
     "data": {
      "application/vnd.jupyter.widget-view+json": {
       "model_id": "24e1fa563b414e0ba730cbde8454577c",
       "version_major": 2,
       "version_minor": 0
      },
      "text/plain": [
       "HBox(children=(IntProgress(value=0, description='emails', max=73588, style=ProgressStyle(description_width='in…"
      ]
     },
     "metadata": {},
     "output_type": "display_data"
    },
    {
     "name": "stdout",
     "output_type": "stream",
     "text": [
      "\n"
     ]
    }
   ],
   "source": [
    "trial_b_df = build_feature_matrix(doc_data_b, email_list)"
   ]
  },
  {
   "cell_type": "code",
   "execution_count": 48,
   "metadata": {
    "ExecuteTime": {
     "end_time": "2020-08-03T02:10:18.687757Z",
     "start_time": "2020-08-03T02:10:18.638054Z"
    }
   },
   "outputs": [],
   "source": [
    "X_train_b, X_test_b, y_train_b, y_test_b = train_test_split(trial_b_df.drop('spam_ham',axis = 1),\n",
    "                                                    trial_b_df['spam_ham'], test_size=0.2, random_state=43)"
   ]
  },
  {
   "cell_type": "markdown",
   "metadata": {},
   "source": [
    "#### Random Forest"
   ]
  },
  {
   "cell_type": "code",
   "execution_count": 49,
   "metadata": {
    "ExecuteTime": {
     "end_time": "2020-08-03T02:10:21.074749Z",
     "start_time": "2020-08-03T02:10:18.830133Z"
    }
   },
   "outputs": [
    {
     "name": "stdout",
     "output_type": "stream",
     "text": [
      "inmail.134 \n",
      " From:  \"leonidas kai-yuen\" <chris@ifg.com> \n",
      " To:  <catchall@speedy.uwaterloo.ca> \n",
      " Subject:  Rich Bonus \n",
      " Online Casinos are known for giving generous welcome bonuses to their = players. But such a rich Bonus. You never received! 300% on your first deposit up to 300$!!! A real Royal Bonus!!! Royal VIP Casino offers you the latest generation software, and an = elegant gaming atmosphere. With over 100 Casino Games to choose from and = a support team always available you cannot ask for more. Come and Play at Royal VIP Casino! http://luoarods.com/sp/ \n",
      "\n",
      "inmail.64057 \n",
      " From:  \"kevlyne kouma\" <kevkouma@moon.expression.edu> \n",
      " To:  None \n",
      " Subject:  confidenciely  help me \n",
      " FROM: KEVLYNE KOUMA ABIDJAN , cote d'ivoire . email/(kev_kou@yahoo.fr) Dear Friend, I am Mrs. KEVLYNE KOUMA from cote d'ivoire. I am a widow; I lost my husband a couple of months ago. My husband was the director of Cocoa exporting board until his death. He was assassinated last January by the rebels following the existing political crisis in our country. Before his death, he has a private bank account here in Côte D´Ivoire with the sum of US$10.5 Million which he told the bank was money reserved for the import of cocoa processing machines. I implore you to receive this fund into a safe account in your country or any safer place as the beneficiary where it can easily be invested into a business. I have plans to invest the money in your country in Liquid, real estate or industry. Please, as you show interest to assist me and my only son, do reply soonest by sending me your telephone number. Regards, MRS. KEVLYNE KOUMA \n",
      "\n",
      "inmail.14769 \n",
      " From:  \"Sarah Pool\" <staatsresult@dse.nl> \n",
      " To:  undisclosed-recipients: ; \n",
      " Subject:  Dear Eligible Winner \n",
      " Dear Eligible Winner We happily announce to you the draw of the LUCKYDAYLOTTO/STAATSLOTERIJ programs held on the 16TH of April 2007 in the Netherlands.Your e-mail address attached to TICKET Nr: 50941465206529 with SERIAL NO:472-9768 drew the LUCKY Nr: S/23467/C4,and BATCH Nr: 14/011/IPD which subsequently won you the lottery in the B category.You have therefore been approved to claim a total sum of 1,000,000.00 (One million Dollars in cash credited to file REF Nr: PEKO/2031/8161/07. This is from a total cash prize of 10,000,000.00 Million Dollars shared amongst the first Ten (10) lucky winners in this category A + (Plus). To file for your claim, please contact our Regional Office with the details below for processing and release of your winning. *********************************************************** Mr. Alex Rudd TEL: 0031-614-373-528 Fax: 0031-847-216-445 Reply Email: appgatinfo@aim.com ************************************************************ NOTE: All winnings must be notarized and Legalized and a certificate of award must be obtained from the Netherlands Gaming Control Board to complete the claims process, this certificate and the notarization/legalization can only be obtained through legal representative so winners will be referred to our Regional Director to assist in this process. Winners are to cover the legal charges for the notarization/legalization of the winning and the acquisition of the certificate of award not STAATSLOTERIJ N.B: All claims are nullified after 15 working days from today. Congratulations once again from all our staff and thank you for being part of our promotions program. Sincerely Yours, MRS. SARAH POOL THE PROMOTION COORDINATOR. \n",
      "\n",
      "Score:  0.7714884696016772\n"
     ]
    }
   ],
   "source": [
    "run_trials(X_train_b, y_train_b, X_test_b, y_test_b, 3, 'rand_forest')"
   ]
  },
  {
   "cell_type": "markdown",
   "metadata": {},
   "source": [
    "#### Logistic Regression"
   ]
  },
  {
   "cell_type": "code",
   "execution_count": 50,
   "metadata": {
    "ExecuteTime": {
     "end_time": "2020-08-03T02:10:24.135084Z",
     "start_time": "2020-08-03T02:10:21.076789Z"
    }
   },
   "outputs": [
    {
     "name": "stdout",
     "output_type": "stream",
     "text": [
      "inmail.13625 \n",
      " From:  \"Mr. Clive Buthelezi\" <info@imdlotto.com> \n",
      " To:  None \n",
      " Subject:  INVESTMENT READ PLEASE \n",
      " Dear friend I make this appeal with the understanding that any facts or opinion expressed by me are giving in confidence and solely for your personal information and use. I am Mr. Clive Buthelezi, the manager of bill and exchange at the foreign remittance department where I work. In my department I discovered an abandoned sum of amount in few millions in American currency, (US Dollars) with account number 8-32902701722 that belongs to one of our foreign customers who died along with his wife and only daughter in a plane crash of Alaska Airlines Flight number 261 which crashed on 31 January 2000. You shall read more about the crash on visiting this site http://www.cnn.com/2000/US/02/01/alaska.airlines.list/ The owner of this account is Mr. Morris Thompson an American and great in industrialist and a resident of Alaska. It is therefore upon this discovery that I now decided to make this business proposal to you and for our bank to release the money to you. You have to follow the instruction which I will send to you as the next of kin or relation to the deceased for safety and subsequent disbursement since nobody is coming for it and I don't want this money to go into our bank treasury as unclaimed bill. The banking law and guidelines here stipulates that if such money remained unclaimed after Three years, the money will be transferred into the bank treasury as unclaimed fund. The money has now stayed more than three years and I am preparing documentation to prove that this money has been transferred to our bank treasury. It will be between me and you will know the money was not transferred into our treasure. The request of foreigner as next of kin in this transaction is occasioned by the fact that the customer was a foreigner and only a fellow white can stand as next of kin to him from the documents presented before us. In appreciation of your assistance, I am offering you 35% of the total sum. 5% for contingencies (cost of transfer/other charges) likely to be incurred during the course of transaction, while the remaining 55% is for me. Upon receipt of your reply, I will send to you by fax or email the text of the application, which you will complete, and forward to our bank asking for this money to be paid to you as the next of kin to Mr. Morris Thomson. I will not fail to bring to your notice that this transaction is hitch-free and that you should not entertain any fear or anticipate that you will be sending me any funds, as all required arrangements have been made for the transfer. You should contact me immediately as soon as you receive this mail through the above email. PLEASE DO NOT hesitate to contact me immediately should you consider my urgent request. Yours Faithfully, Mr. Clive Buthelezi nklelectronic@aim.com -- Dear friend I make this appeal with the understanding that any facts or opinion expressed by me are giving in confidence and solely for your personal information and use. I am Mr. Clive Buthelezi, the manager of bill and exchange at the foreign remittance department where I work. In my department I discovered an abandoned sum of amount in few millions in American currency, (US Dollars) with account number 8-32902701722 that belongs to one of our foreign customers who died along with his wife and only daughter in a plane crash of Alaska Airlines Flight number 261 which crashed on 31 January 2000. You shall read more about the crash on visiting this site http://www.cnn.com/2000/US/02/01/alaska.airlines.list/ The owner of this account is Mr. Morris Thompson an American and great in industrialist and a resident of Alaska. It is therefore upon this discovery that I now decided to make this business proposal to you and for our bank to release the money to you. You have to follow the instruction which I will send to you as the next of kin or relation to the deceased for safety and subsequent disbursement since nobody is coming for it and I don't want this money to go into our bank treasury as unclaimed bill. The banking law and guidelines here stipulates that if such money remained unclaimed after Three years, the money will be transferred into the bank treasury as unclaimed fund. The money has now stayed more than three years and I am preparing documentation to prove that this money has been transferred to our bank treasury. It will be between me and you will know the money was not transferred into our treasure. The request of foreigner as next of kin in this transaction is occasioned by the fact that the customer was a foreigner and only a fellow white can stand as next of kin to him from the documents presented before us. In appreciation of your assistance, I am offering you 35% of the total sum. 5% for contingencies (cost of transfer/other charges) likely to be incurred during the course of transaction, while the remaining 55% is for me. Upon receipt of your reply, I will send to you by fax or email the text of the application, which you will complete, and forward to our bank asking for this money to be paid to you as the next of kin to Mr. Morris Thomson. I will not fail to bring to your notice that this transaction is hitch-free and that you should not entertain any fear or anticipate that you will be sending me any funds, as all required arrangements have been made for the transfer. You should contact me immediately as soon as you receive this mail through the above email. PLEASE DO NOT hesitate to contact me immediately should you consider my urgent request. Yours Faithfully, Mr. Clive Buthelezi nklelectronic@aim.com -- Dear friend I make this appeal with the understanding that any facts or opinion expressed by me are giving in confidence and solely for your personal information and use. I am Mr. Clive Buthelezi, the manager of bill and exchange at the foreign remittance department where I work. In my department I discovered an abandoned sum of amount in few millions in American currency, (US Dollars) with account number 8-32902701722 that belongs to one of our foreign customers who died along with his wife and only daughter in a plane crash of Alaska Airlines Flight number 261 which crashed on 31 January 2000. You shall read more about the crash on visiting this site http://www.cnn.com/2000/US/02/01/alaska.airlines.list/ The owner of this account is Mr. Morris Thompson an American and great in industrialist and a resident of Alaska. It is therefore upon this discovery that I now decided to make this business proposal to you and for our bank to release the money to you. You have to follow the instruction which I will send to you as the next of kin or relation to the deceased for safety and subsequent disbursement since nobody is coming for it and I don't want this money to go into our bank treasury as unclaimed bill. The banking law and guidelines here stipulates that if such money remained unclaimed after Three years, the money will be transferred into the bank treasury as unclaimed fund. The money has now stayed more than three years and I am preparing documentation to prove that this money has been transferred to our bank treasury. It will be between me and you will know the money was not transferred into our treasure. The request of foreigner as next of kin in this transaction is occasioned by the fact that the customer was a foreigner and only a fellow white can stand as next of kin to him from the documents presented before us. In appreciation of your assistance, I am offering you 35% of the total sum. 5% for contingencies (cost of transfer/other charges) likely to be incurred during the course of transaction, while the remaining 55% is for me. Upon receipt of your reply, I will send to you by fax or email the text of the application, which you will complete, and forward to our bank asking for this money to be paid to you as the next of kin to Mr. Morris Thomson. I will not fail to bring to your notice that this transaction is hitch-free and that you should not entertain any fear or anticipate that you will be sending me any funds, as all required arrangements have been made for the transfer. You should contact me immediately as soon as you receive this mail through the above email. PLEASE DO NOT hesitate to contact me immediately should you consider my urgent request. Yours Faithfully, Mr. Clive Buthelezi nklelectronic@aim.com -- Dear friend I make this appeal with the understanding that any facts or opinion expressed by me are giving in confidence and solely for your personal information and use. I am Mr. Clive Buthelezi, the manager of bill and exchange at the foreign remittance department where I work. In my department I discovered an abandoned sum of amount in few millions in American currency, (US Dollars) with account number 8-32902701722 that belongs to one of our foreign customers who died along with his wife and only daughter in a plane crash of Alaska Airlines Flight number 261 which crashed on 31 January 2000. You shall read more about the crash on visiting this site http://www.cnn.com/2000/US/02/01/alaska.airlines.list/ The owner of this account is Mr. Morris Thompson an American and great in industrialist and a resident of Alaska. It is therefore upon this discovery that I now decided to make this business proposal to you and for our bank to release the money to you. You have to follow the instruction which I will send to you as the next of kin or relation to the deceased for safety and subsequent disbursement since nobody is coming for it and I don't want this money to go into our bank treasury as unclaimed bill. The banking law and guidelines here stipulates that if such money remained unclaimed after Three years, the money will be transferred into the bank treasury as unclaimed fund. The money has now stayed more than three years and I am preparing documentation to prove that this money has been transferred to our bank treasury. It will be between me and you will know the money was not transferred into our treasure. The request of foreigner as next of kin in this transaction is occasioned by the fact that the customer was a foreigner and only a fellow white can stand as next of kin to him from the documents presented before us. In appreciation of your assistance, I am offering you 35% of the total sum. 5% for contingencies (cost of transfer/other charges) likely to be incurred during the course of transaction, while the remaining 55% is for me. Upon receipt of your reply, I will send to you by fax or email the text of the application, which you will complete, and forward to our bank asking for this money to be paid to you as the next of kin to Mr. Morris Thomson. I will not fail to bring to your notice that this transaction is hitch-free and that you should not entertain any fear or anticipate that you will be sending me any funds, as all required arrangements have been made for the transfer. You should contact me immediately as soon as you receive this mail through the above email. PLEASE DO NOT hesitate to contact me immediately should you consider my urgent request. Yours Faithfully, Mr. Clive Buthelezi nklelectronic@aim.com -- Dear friend I make this appeal with the understanding that any facts or opinion expressed by me are giving in confidence and solely for your personal information and use. I am Mr. Clive Buthelezi, the manager of bill and exchange at the foreign remittance department where I work. In my department I discovered an abandoned sum of amount in few millions in American currency, (US Dollars) with account number 8-32902701722 that belongs to one of our foreign customers who died along with his wife and only daughter in a plane crash of Alaska Airlines Flight number 261 which crashed on 31 January 2000. You shall read more about the crash on visiting this site http://www.cnn.com/2000/US/02/01/alaska.airlines.list/ The owner of this account is Mr. Morris Thompson an American and great in industrialist and a resident of Alaska. It is therefore upon this discovery that I now decided to make this business proposal to you and for our bank to release the money to you. You have to follow the instruction which I will send to you as the next of kin or relation to the deceased for safety and subsequent disbursement since nobody is coming for it and I don't want this money to go into our bank treasury as unclaimed bill. The banking law and guidelines here stipulates that if such money remained unclaimed after Three years, the money will be transferred into the bank treasury as unclaimed fund. The money has now stayed more than three years and I am preparing documentation to prove that this money has been transferred to our bank treasury. It will be between me and you will know the money was not transferred into our treasure. The request of foreigner as next of kin in this transaction is occasioned by the fact that the customer was a foreigner and only a fellow white can stand as next of kin to him from the documents presented before us. In appreciation of your assistance, I am offering you 35% of the total sum. 5% for contingencies (cost of transfer/other charges) likely to be incurred during the course of transaction, while the remaining 55% is for me. Upon receipt of your reply, I will send to you by fax or email the text of the application, which you will complete, and forward to our bank asking for this money to be paid to you as the next of kin to Mr. Morris Thomson. I will not fail to bring to your notice that this transaction is hitch-free and that you should not entertain any fear or anticipate that you will be sending me any funds, as all required arrangements have been made for the transfer. You should contact me immediately as soon as you receive this mail through the above email. PLEASE DO NOT hesitate to contact me immediately should you consider my urgent request. Yours Faithfully, Mr. Clive Buthelezi nklelectronic@aim.com -- Dear friend I make this appeal with the understanding that any facts or opinion expressed by me are giving in confidence and solely for your personal information and use. I am Mr. Clive Buthelezi, the manager of bill and exchange at the foreign remittance department where I work. In my department I discovered an abandoned sum of amount in few millions in American currency, (US Dollars) with account number 8-32902701722 that belongs to one of our foreign customers who died along with his wife and only daughter in a plane crash of Alaska Airlines Flight number 261 which crashed on 31 January 2000. You shall read more about the crash on visiting this site http://www.cnn.com/2000/US/02/01/alaska.airlines.list/ The owner of this account is Mr. Morris Thompson an American and great in industrialist and a resident of Alaska. It is therefore upon this discovery that I now decided to make this business proposal to you and for our bank to release the money to you. You have to follow the instruction which I will send to you as the next of kin or relation to the deceased for safety and subsequent disbursement since nobody is coming for it and I don't want this money to go into our bank treasury as unclaimed bill. The banking law and guidelines here stipulates that if such money remained unclaimed after Three years, the money will be transferred into the bank treasury as unclaimed fund. The money has now stayed more than three years and I am preparing documentation to prove that this money has been transferred to our bank treasury. It will be between me and you will know the money was not transferred into our treasure. The request of foreigner as next of kin in this transaction is occasioned by the fact that the customer was a foreigner and only a fellow white can stand as next of kin to him from the documents presented before us. In appreciation of your assistance, I am offering you 35% of the total sum. 5% for contingencies (cost of transfer/other charges) likely to be incurred during the course of transaction, while the remaining 55% is for me. Upon receipt of your reply, I will send to you by fax or email the text of the application, which you will complete, and forward to our bank asking for this money to be paid to you as the next of kin to Mr. Morris Thomson. I will not fail to bring to your notice that this transaction is hitch-free and that you should not entertain any fear or anticipate that you will be sending me any funds, as all required arrangements have been made for the transfer. You should contact me immediately as soon as you receive this mail through the above email. PLEASE DO NOT hesitate to contact me immediately should you consider my urgent request. Yours Faithfully, Mr. Clive Buthelezi nklelectronic@aim.com -- Dear friend I make this appeal with the understanding that any facts or opinion expressed by me are giving in confidence and solely for your personal information and use. I am Mr. Clive Buthelezi, the manager of bill and exchange at the foreign remittance department where I work. In my department I discovered an abandoned sum of amount in few millions in American currency, (US Dollars) with account number 8-32902701722 that belongs to one of our foreign customers who died along with his wife and only daughter in a plane crash of Alaska Airlines Flight number 261 which crashed on 31 January 2000. You shall read more about the crash on visiting this site http://www.cnn.com/2000/US/02/01/alaska.airlines.list/ The owner of this account is Mr. Morris Thompson an American and great in industrialist and a resident of Alaska. It is therefore upon this discovery that I now decided to make this business proposal to you and for our bank to release the money to you. You have to follow the instruction which I will send to you as the next of kin or relation to the deceased for safety and subsequent disbursement since nobody is coming for it and I don't want this money to go into our bank treasury as unclaimed bill. The banking law and guidelines here stipulates that if such money remained unclaimed after Three years, the money will be transferred into the bank treasury as unclaimed fund. The money has now stayed more than three years and I am preparing documentation to prove that this money has been transferred to our bank treasury. It will be between me and you will know the money was not transferred into our treasure. The request of foreigner as next of kin in this transaction is occasioned by the fact that the customer was a foreigner and only a fellow white can stand as next of kin to him from the documents presented before us. In appreciation of your assistance, I am offering you 35% of the total sum. 5% for contingencies (cost of transfer/other charges) likely to be incurred during the course of transaction, while the remaining 55% is for me. Upon receipt of your reply, I will send to you by fax or email the text of the application, which you will complete, and forward to our bank asking for this money to be paid to you as the next of kin to Mr. Morris Thomson. I will not fail to bring to your notice that this transaction is hitch-free and that you should not entertain any fear or anticipate that you will be sending me any funds, as all required arrangements have been made for the transfer. You should contact me immediately as soon as you receive this mail through the above email. PLEASE DO NOT hesitate to contact me immediately should you consider my urgent request. Yours Faithfully, Mr. Clive Buthelezi nklelectronic@aim.com -- Dear friend I make this appeal with the understanding that any facts or opinion expressed by me are giving in confidence and solely for your personal information and use. I am Mr. Clive Buthelezi, the manager of bill and exchange at the foreign remittance department where I work. In my department I discovered an abandoned sum of amount in few millions in American currency, (US Dollars) with account number 8-32902701722 that belongs to one of our foreign customers who died along with his wife and only daughter in a plane crash of Alaska Airlines Flight number 261 which crashed on 31 January 2000. You shall read more about the crash on visiting this site http://www.cnn.com/2000/US/02/01/alaska.airlines.list/ The owner of this account is Mr. Morris Thompson an American and great in industrialist and a resident of Alaska. It is therefore upon this discovery that I now decided to make this business proposal to you and for our bank to release the money to you. You have to follow the instruction which I will send to you as the next of kin or relation to the deceased for safety and subsequent disbursement since nobody is coming for it and I don't want this money to go into our bank treasury as unclaimed bill. The banking law and guidelines here stipulates that if such money remained unclaimed after Three years, the money will be transferred into the bank treasury as unclaimed fund. The money has now stayed more than three years and I am preparing documentation to prove that this money has been transferred to our bank treasury. It will be between me and you will know the money was not transferred into our treasure. The request of foreigner as next of kin in this transaction is occasioned by the fact that the customer was a foreigner and only a fellow white can stand as next of kin to him from the documents presented before us. In appreciation of your assistance, I am offering you 35% of the total sum. 5% for contingencies (cost of transfer/other charges) likely to be incurred during the course of transaction, while the remaining 55% is for me. Upon receipt of your reply, I will send to you by fax or email the text of the application, which you will complete, and forward to our bank asking for this money to be paid to you as the next of kin to Mr. Morris Thomson. I will not fail to bring to your notice that this transaction is hitch-free and that you should not entertain any fear or anticipate that you will be sending me any funds, as all required arrangements have been made for the transfer. You should contact me immediately as soon as you receive this mail through the above email. PLEASE DO NOT hesitate to contact me immediately should you consider my urgent request. Yours Faithfully, Mr. Clive Buthelezi nklelectronic@aim.com -- Dear friend I make this appeal with the understanding that any facts or opinion expressed by me are giving in confidence and solely for your personal information and use. I am Mr. Clive Buthelezi, the manager of bill and exchange at the foreign remittance department where I work. In my department I discovered an abandoned sum of amount in few millions in American currency, (US Dollars) with account number 8-32902701722 that belongs to one of our foreign customers who died along with his wife and only daughter in a plane crash of Alaska Airlines Flight number 261 which crashed on 31 January 2000. You shall read more about the crash on visiting this site http://www.cnn.com/2000/US/02/01/alaska.airlines.list/ The owner of this account is Mr. Morris Thompson an American and great in industrialist and a resident of Alaska. It is therefore upon this discovery that I now decided to make this business proposal to you and for our bank to release the money to you. You have to follow the instruction which I will send to you as the next of kin or relation to the deceased for safety and subsequent disbursement since nobody is coming for it and I don't want this money to go into our bank treasury as unclaimed bill. The banking law and guidelines here stipulates that if such money remained unclaimed after Three years, the money will be transferred into the bank treasury as unclaimed fund. The money has now stayed more than three years and I am preparing documentation to prove that this money has been transferred to our bank treasury. It will be between me and you will know the money was not transferred into our treasure. The request of foreigner as next of kin in this transaction is occasioned by the fact that the customer was a foreigner and only a fellow white can stand as next of kin to him from the documents presented before us. In appreciation of your assistance, I am offering you 35% of the total sum. 5% for contingencies (cost of transfer/other charges) likely to be incurred during the course of transaction, while the remaining 55% is for me. Upon receipt of your reply, I will send to you by fax or email the text of the application, which you will complete, and forward to our bank asking for this money to be paid to you as the next of kin to Mr. Morris Thomson. I will not fail to bring to your notice that this transaction is hitch-free and that you should not entertain any fear or anticipate that you will be sending me any funds, as all required arrangements have been made for the transfer. You should contact me immediately as soon as you receive this mail through the above email. PLEASE DO NOT hesitate to contact me immediately should you consider my urgent request. Yours Faithfully, Mr. Clive Buthelezi nklelectronic@aim.com -- Dear friend I make this appeal with the understanding that any facts or opinion expressed by me are giving in confidence and solely for your personal information and use. I am Mr. Clive Buthelezi, the manager of bill and exchange at the foreign remittance department where I work. In my department I discovered an abandoned sum of amount in few millions in American currency, (US Dollars) with account number 8-32902701722 that belongs to one of our foreign customers who died along with his wife and only daughter in a plane crash of Alaska Airlines Flight number 261 which crashed on 31 January 2000. You shall read more about the crash on visiting this site http://www.cnn.com/2000/US/02/01/alaska.airlines.list/ The owner of this account is Mr. Morris Thompson an American and great in industrialist and a resident of Alaska. It is therefore upon this discovery that I now decided to make this business proposal to you and for our bank to release the money to you. You have to follow the instruction which I will send to you as the next of kin or relation to the deceased for safety and subsequent disbursement since nobody is coming for it and I don't want this money to go into our bank treasury as unclaimed bill. The banking law and guidelines here stipulates that if such money remained unclaimed after Three years, the money will be transferred into the bank treasury as unclaimed fund. The money has now stayed more than three years and I am preparing documentation to prove that this money has been transferred to our bank treasury. It will be between me and you will know the money was not transferred into our treasure. The request of foreigner as next of kin in this transaction is occasioned by the fact that the customer was a foreigner and only a fellow white can stand as next of kin to him from the documents presented before us. In appreciation of your assistance, I am offering you 35% of the total sum. 5% for contingencies (cost of transfer/other charges) likely to be incurred during the course of transaction, while the remaining 55% is for me. Upon receipt of your reply, I will send to you by fax or email the text of the application, which you will complete, and forward to our bank asking for this money to be paid to you as the next of kin to Mr. Morris Thomson. I will not fail to bring to your notice that this transaction is hitch-free and that you should not entertain any fear or anticipate that you will be sending me any funds, as all required arrangements have been made for the transfer. You should contact me immediately as soon as you receive this mail through the above email. PLEASE DO NOT hesitate to contact me immediately should you consider my urgent request. Yours Faithfully, Mr. Clive Buthelezi nklelectronic@aim.com -- Dear friend I make this appeal with the understanding that any facts or opinion expressed by me are giving in confidence and solely for your personal information and use. I am Mr. Clive Buthelezi, the manager of bill and exchange at the foreign remittance department where I work. In my department I discovered an abandoned sum of amount in few millions in American currency, (US Dollars) with account number 8-32902701722 that belongs to one of our foreign customers who died along with his wife and only daughter in a plane crash of Alaska Airlines Flight number 261 which crashed on 31 January 2000. You shall read more about the crash on visiting this site http://www.cnn.com/2000/US/02/01/alaska.airlines.list/ The owner of this account is Mr. Morris Thompson an American and great in industrialist and a resident of Alaska. It is therefore upon this discovery that I now decided to make this business proposal to you and for our bank to release the money to you. You have to follow the instruction which I will send to you as the next of kin or relation to the deceased for safety and subsequent disbursement since nobody is coming for it and I don't want this money to go into our bank treasury as unclaimed bill. The banking law and guidelines here stipulates that if such money remained unclaimed after Three years, the money will be transferred into the bank treasury as unclaimed fund. The money has now stayed more than three years and I am preparing documentation to prove that this money has been transferred to our bank treasury. It will be between me and you will know the money was not transferred into our treasure. The request of foreigner as next of kin in this transaction is occasioned by the fact that the customer was a foreigner and only a fellow white can stand as next of kin to him from the documents presented before us. In appreciation of your assistance, I am offering you 35% of the total sum. 5% for contingencies (cost of transfer/other charges) likely to be incurred during the course of transaction, while the remaining 55% is for me. Upon receipt of your reply, I will send to you by fax or email the text of the application, which you will complete, and forward to our bank asking for this money to be paid to you as the next of kin to Mr. Morris Thomson. I will not fail to bring to your notice that this transaction is hitch-free and that you should not entertain any fear or anticipate that you will be sending me any funds, as all required arrangements have been made for the transfer. You should contact me immediately as soon as you receive this mail through the above email. PLEASE DO NOT hesitate to contact me immediately should you consider my urgent request. Yours Faithfully, Mr -- Dear friend I make this appeal with the understanding that any facts or opinion expressed by me are giving in confidence and solely for your personal information and use. I am Mr. Clive Buthelezi, the manager of bill and exchange at the foreign remittance department where I work. In my department I discovered an abandoned sum of amount in few millions in American currency, (US Dollars) with account number 8-32902701722 that belongs to one of our foreign customers who died along with his wife and only daughter in a plane crash of Alaska Airlines Flight number 261 which crashed on 31 January 2000. You shall read more about the crash on visiting this site http://www.cnn.com/2000/US/02/01/alaska.airlines.list/ The owner of this account is Mr. Morris Thompson an American and great in industrialist and a resident of Alaska. It is therefore upon this discovery that I now decided to make this business proposal to you and for our bank to release the money to you. You have to follow the instruction which I will send to you as the next of kin or relation to the deceased for safety and subsequent disbursement since nobody is coming for it and I don't want this money to go into our bank treasury as unclaimed bill. The banking law and guidelines here stipulates that if such money remained unclaimed after Three years, the money will be transferred into the bank treasury as unclaimed fund. The money has now stayed more than three years and I am preparing documentation to prove that this money has been transferred to our bank treasury. It will be between me and you will know the money was not transferred into our treasure. The request of foreigner as next of kin in this transaction is occasioned by the fact that the customer was a foreigner and only a fellow white can stand as next of kin to him from the documents presented before us. In appreciation of your assistance, I am offering you 35% of the total sum. 5% for contingencies (cost of transfer/other charges) likely to be incurred during the course of transaction, while the remaining 55% is for me. Upon receipt of your reply, I will send to you by fax or email the text of the application, which you will complete, and forward to our bank asking for this money to be paid to you as the next of kin to Mr. Morris Thomson. I will not fail to bring to your notice that this transaction is hitch-free and that you should not entertain any fear or anticipate that you will be sending me any funds, as all required arrangements have been made for the transfer. You should contact me immediately as soon as you receive this mail through the above email. PLEASE DO NOT hesitate to contact me immediately should you consider my urgent request. Yours Faithfully, Mr. Clive Buthelezi nklelectronic@aim.com -- Dear friend I make this appeal with the understanding that any facts or opinion expressed by me are giving in confidence and solely for your personal information and use. I am Mr. Clive Buthelezi, the manager of bill and exchange at the foreign remittance department where I work. In my department I discovered an abandoned sum of amount in few millions in American currency, (US Dollars) with account number 8-32902701722 that belongs to one of our foreign customers who died along with his wife and only daughter in a plane crash of Alaska Airlines Flight number 261 which crashed on 31 January 2000. You shall read more about the crash on visiting this site http://www.cnn.com/2000/US/02/01/alaska.airlines.list/ The owner of this account is Mr. Morris Thompson an American and great in industrialist and a resident of Alaska. It is therefore upon this discovery that I now decided to make this business proposal to you and for our bank to release the money to you. You have to follow the instruction which I will send to you as the next of kin or relation to the deceased for safety and subsequent disbursement since nobody is coming for it and I don't want this money to go into our bank treasury as unclaimed bill. The banking law and guidelines here stipulates that if such money remained unclaimed after Three years, the money will be transferred into the bank treasury as unclaimed fund. The money has now stayed more than three years and I am preparing documentation to prove that this money has been transferred to our bank treasury. It will be between me and you will know the money was not transferred into our treasure. The request of foreigner as next of kin in this transaction is occasioned by the fact that the customer was a foreigner and only a fellow white can stand as next of kin to him from the documents presented before us. In appreciation of your assistance, I am offering you 35% of the total sum. 5% for contingencies (cost of transfer/other charges) likely to be incurred during the course of transaction, while the remaining 55% is for me. Upon receipt of your reply, I will send to you by fax or email the text of the application, which you will complete, and forward to our bank asking for this money to be paid to you as the next of kin to Mr. Morris Thomson. I will not fail to bring to your notice that this transaction is hitch-free and that you should not entertain any fear or anticipate that you will be sending me any funds, as all required arrangements have been made for the transfer. You should contact me immediately as soon as you receive this mail through the above email. PLEASE DO NOT hesitate to contact me immediately should you consider my urgent request. Yours Faithfully, Mr. Clive Buthelezi nklelectronic@aim.com -- Dear friend I make this appeal with the understanding that any facts or opinion expressed by me are giving in confidence and solely for your personal information and use. I am Mr. Clive Buthelezi, the manager of bill and exchange at the foreign remittance department where I work. In my department I discovered an abandoned sum of amount in few millions in American currency, (US Dollars) with account number 8-32902701722 that belongs to one of our foreign customers who died along with his wife and only daughter in a plane crash of Alaska Airlines Flight number 261 which crashed on 31 January 2000. You shall read more about the crash on visiting this site http://www.cnn.com/2000/US/02/01/alaska.airlines.list/ The owner of this account is Mr. Morris Thompson an American and great in industrialist and a resident of Alaska. It is therefore upon this discovery that I now decided to make this business proposal to you and for our bank to release the money to you. You have to follow the instruction which I will send to you as the next of kin or relation to the deceased for safety and subsequent disbursement since nobody is coming for it and I don't want this money to go into our bank treasury as unclaimed bill. The banking law and guidelines here stipulates that if such money remained unclaimed after Three years, the money will be transferred into the bank treasury as unclaimed fund. The money has now stayed more than three years and I am preparing documentation to prove that this money has been transferred to our bank treasury. It will be between me and you will know the money was not transferred into our treasure. The request of foreigner as next of kin in this transaction is occasioned by the fact that the customer was a foreigner and only a fellow white can stand as next of kin to him from the documents presented before us. In appreciation of your assistance, I am offering you 35% of the total sum. 5% for contingencies (cost of transfer/other charges) likely to be incurred during the course of transaction, while the remaining 55% is for me. Upon receipt of your reply, I will send to you by fax or email the text of the application, which you will complete, and forward to our bank asking for this money to be paid to you as the next of kin to Mr. Morris Thomson. I will not fail to bring to your notice that this transaction is hitch-free and that you should not entertain any fear or anticipate that you will be sending me any funds, as all required arrangements have been made for the transfer. You should contact me immediately as soon as you receive this mail through the above email. PLEASE DO NOT hesitate to contact me immediately should you consider my urgent request. Yours Faithfully, Mr. Clive Buthelezi nklelectronic@aim.com -- Dear friend I make this appeal with the understanding that any facts or opinion expressed by me are giving in confidence and solely for your personal information and use. I am Mr. Clive Buthelezi, the manager of bill and exchange at the foreign remittance department where I work. In my department I discovered an abandoned sum of amount in few millions in American currency, (US Dollars) with account number 8-32902701722 that belongs to one of our foreign customers who died along with his wife and only daughter in a plane crash of Alaska Airlines Flight number 261 which crashed on 31 January 2000. You shall read more about the crash on visiting this site http://www.cnn.com/2000/US/02/01/alaska.airlines.list/ The owner of this account is Mr. Morris Thompson an American and great in industrialist and a resident of Alaska. It is therefore upon this discovery that I now decided to make this business proposal to you and for our bank to release the money to you. You have to follow the instruction which I will send to you as the next of kin or relation to the deceased for safety and subsequent disbursement since nobody is coming for it and I don't want this money to go into our bank treasury as unclaimed bill. The banking law and guidelines here stipulates that if such money remained unclaimed after Three years, the money will be transferred into the bank treasury as unclaimed fund. The money has now stayed more than three years and I am preparing documentation to prove that this money has been transferred to our bank treasury. It will be between me and you will know the money was not transferred into our treasure. The request of foreigner as next of kin in this transaction is occasioned by the fact that the customer was a foreigner and only a fellow white can stand as next of kin to him from the documents presented before us. In appreciation of your assistance, I am offering you 35% of the total sum. 5% for contingencies (cost of transfer/other charges) likely to be incurred during the course of transaction, while the remaining 55% is for me. Upon receipt of your reply, I will send to you by fax or email the text of the application, which you will complete, and forward to our bank asking for this money to be paid to you as the next of kin to Mr. Morris Thomson. I will not fail to bring to your notice that this transaction is hitch-free and that you should not entertain any fear or anticipate that you will be sending me any funds, as all required arrangements have been made for the transfer. You should contact me immediately as soon as you receive this mail through the above email. PLEASE DO NOT hesitate to contact me immediately should you consider my urgent request. Yours Faithfully, Mr. Clive Buthelezi nklelectronic@aim.com -- Dear friend I make this appeal with the understanding that any facts or opinion expressed by me are giving in confidence and solely for your personal information and use. I am Mr. Clive Buthelezi, the manager of bill and exchange at the foreign remittance department where I work. In my department I discovered an abandoned sum of amount in few millions in American currency, (US Dollars) with account number 8-32902701722 that belongs to one of our foreign customers who died along with his wife and only daughter in a plane crash of Alaska Airlines Flight number 261 which crashed on 31 January 2000. You shall read more about the crash on visiting this site http://www.cnn.com/2000/US/02/01/alaska.airlines.list/ The owner of this account is Mr. Morris Thompson an American and great in industrialist and a resident of Alaska. It is therefore upon this discovery that I now decided to make this business proposal to you and for our bank to release the money to you. You have to follow the instruction which I will send to you as the next of kin or relation to the deceased for safety and subsequent disbursement since nobody is coming for it and I don't want this money to go into our bank treasury as unclaimed bill. The banking law and guidelines here stipulates that if such money remained unclaimed after Three years, the money will be transferred into the bank treasury as unclaimed fund. The money has now stayed more than three years and I am preparing documentation to prove that this money has been transferred to our bank treasury. It will be between me and you will know the money was not transferred into our treasure. The request of foreigner as next of kin in this transaction is occasioned by the fact that the customer was a foreigner and only a fellow white can stand as next of kin to him from the documents presented before us. In appreciation of your assistance, I am offering you 35% of the total sum. 5% for contingencies (cost of transfer/other charges) likely to be incurred during the course of transaction, while the remaining 55% is for me. Upon receipt of your reply, I will send to you by fax or email the text of the application, which you will complete, and forward to our bank asking for this money to be paid to you as the next of kin to Mr. Morris Thomson. I will not fail to bring to your notice that this transaction is hitch-free and that you should not entertain any fear or anticipate that you will be sending me any funds, as all required arrangements have been made for the transfer. You should contact me immediately as soon as you receive this mail through the above email. PLEASE DO NOT hesitate to contact me immediately should you consider my urgent request. Yours Faithfully, Mr. Clive Buthelezi nklelectronic@aim.com -- Dear friend I make this appeal with the understanding that any facts or opinion expressed by me are giving in confidence and solely for your personal information and use. I am Mr. Clive Buthelezi, the manager of bill and exchange at the foreign remittance department where I work. In my department I discovered an abandoned sum of amount in few millions in American currency, (US Dollars) with account number 8-32902701722 that belongs to one of our foreign customers who died along with his wife and only daughter in a plane crash of Alaska Airlines Flight number 261 which crashed on 31 January 2000. You shall read more about the crash on visiting this site http://www.cnn.com/2000/US/02/01/alaska.airlines.list/ The owner of this account is Mr. Morris Thompson an American and great in industrialist and a resident of Alaska. It is therefore upon this discovery that I now decided to make this business proposal to you and for our bank to release the money to you. You have to follow the instruction which I will send to you as the next of kin or relation to the deceased for safety and subsequent disbursement since nobody is coming for it and I don't want this money to go into our bank treasury as unclaimed bill. The banking law and guidelines here stipulates that if such money remained unclaimed after Three years, the money will be transferred into the bank treasury as unclaimed fund. The money has now stayed more than three years and I am preparing documentation to prove that this money has been transferred to our bank treasury. It will be between me and you will know the money was not transferred into our treasure. The request of foreigner as next of kin in this transaction is occasioned by the fact that the customer was a foreigner and only a fellow white can stand as next of kin to him from the documents presented before us. In appreciation of your assistance, I am offering you 35% of the total sum. 5% for contingencies (cost of transfer/other charges) likely to be incurred during the course of transaction, while the remaining 55% is for me. Upon receipt of your reply, I will send to you by fax or email the text of the application, which you will complete, and forward to our bank asking for this money to be paid to you as the next of kin to Mr. Morris Thomson. I will not fail to bring to your notice that this transaction is hitch-free and that you should not entertain any fear or anticipate that you will be sending me any funds, as all required arrangements have been made for the transfer. You should contact me immediately as soon as you receive this mail through the above email. PLEASE DO NOT hesitate to contact me immediately should you consider my urgent request. Yours Faithfully, Mr. Clive Buthelezi nklelectronic@aim.com -- Dear friend I make this appeal with the understanding that any facts or opinion expressed by me are giving in confidence and solely for your personal information and use. I am Mr. Clive Buthelezi, the manager of bill and exchange at the foreign remittance department where I work. In my department I discovered an abandoned sum of amount in few millions in American currency, (US Dollars) with account number 8-32902701722 that belongs to one of our foreign customers who died along with his wife and only daughter in a plane crash of Alaska Airlines Flight number 261 which crashed on 31 January 2000. You shall read more about the crash on visiting this site http://www.cnn.com/2000/US/02/01/alaska.airlines.list/ The owner of this account is Mr. Morris Thompson an American and great in industrialist and a resident of Alaska. It is therefore upon this discovery that I now decided to make this business proposal to you and for our bank to release the money to you. You have to follow the instruction which I will send to you as the next of kin or relation to the deceased for safety and subsequent disbursement since nobody is coming for it and I don't want this money to go into our bank treasury as unclaimed bill. The banking law and guidelines here stipulates that if such money remained unclaimed after Three years, the money will be transferred into the bank treasury as unclaimed fund. The money has now stayed more than three years and I am preparing documentation to prove that this money has been transferred to our bank treasury. It will be between me and you will know the money was not transferred into our treasure. The request of foreigner as next of kin in this transaction is occasioned by the fact that the customer was a foreigner and only a fellow white can stand as next of kin to him from the documents presented before us. In appreciation of your assistance, I am offering you 35% of the total sum. 5% for contingencies (cost of transfer/other charges) likely to be incurred during the course of transaction, while the remaining 55% is for me. Upon receipt of your reply, I will send to you by fax or email the text of the application, which you will complete, and forward to our bank asking for this money to be paid to you as the next of kin to Mr. Morris Thomson. I will not fail to bring to your notice that this transaction is hitch-free and that you should not entertain any fear or anticipate that you will be sending me any funds, as all required arrangements have been made for the transfer. You should contact me immediately as soon as you receive this mail through the above email. PLEASE DO NOT hesitate to contact me immediately should you consider my urgent request. Yours Faithfully, Mr. Clive Buthelezi nklelectronic@aim.com -- Dear friend I make this appeal with the understanding that any facts or opinion expressed by me are giving in confidence and solely for your personal information and use. I am Mr. Clive Buthelezi, the manager of bill and exchange at the foreign remittance department where I work. In my department I discovered an abandoned sum of amount in few millions in American currency, (US Dollars) with account number 8-32902701722 that belongs to one of our foreign customers who died along with his wife and only daughter in a plane crash of Alaska Airlines Flight number 261 which crashed on 31 January 2000. You shall read more about the crash on visiting this site http://www.cnn.com/2000/US/02/01/alaska.airlines.list/ The owner of this account is Mr. Morris Thompson an American and great in industrialist and a resident of Alaska. It is therefore upon this discovery that I now decided to make this business proposal to you and for our bank to release the money to you. You have to follow the instruction which I will send to you as the next of kin or relation to the deceased for safety and subsequent disbursement since nobody is coming for it and I don't want this money to go into our bank treasury as unclaimed bill. The banking law and guidelines here stipulates that if such money remained unclaimed after Three years, the money will be transferred into the bank treasury as unclaimed fund. The money has now stayed more than three years and I am preparing documentation to prove that this money has been transferred to our bank treasury. It will be between me and you will know the money was not transferred into our treasure. The request of foreigner as next of kin in this transaction is occasioned by the fact that the customer was a foreigner and only a fellow white can stand as next of kin to him from the documents presented before us. In appreciation of your assistance, I am offering you 35% of the total sum. 5% for contingencies (cost of transfer/other charges) likely to be incurred during the course of transaction, while the remaining 55% is for me. Upon receipt of your reply, I will send to you by fax or email the text of the application, which you will complete, and forward to our bank asking for this money to be paid to you as the next of kin to Mr. Morris Thomson. I will not fail to bring to your notice that this transaction is hitch-free and that you should not entertain any fear or anticipate that you will be sending me any funds, as all required arrangements have been made for the transfer. You should contact me immediately as soon as you receive this mail through the above email. PLEASE DO NOT hesitate to contact me immediately should you consider my urgent request. Yours Faithfully, Mr. Clive Buthelezi nklelectronic@aim.com -- Dear friend I make this appeal with the understanding that any facts or opinion expressed by me are giving in confidence and solely for your personal information and use. I am Mr. Clive Buthelezi, the manager of bill and exchange at the foreign remittance department where I work. In my department I discovered an abandoned sum of amount in few millions in American currency, (US Dollars) with account number 8-32902701722 that belongs to one of our foreign customers who died along with his wife and only daughter in a plane crash of Alaska Airlines Flight number 261 which crashed on 31 January 2000. You shall read more about the crash on visiting this site http://www.cnn.com/2000/US/02/01/alaska.airlines.list/ The owner of this account is Mr. Morris Thompson an American and great in industrialist and a resident of Alaska. It is therefore upon this discovery that I now decided to make this business proposal to you and for our bank to release the money to you. You have to follow the instruction which I will send to you as the next of kin or relation to the deceased for safety and subsequent disbursement since nobody is coming for it and I don't want this money to go into our bank treasury as unclaimed bill. The banking law and guidelines here stipulates that if such money remained unclaimed after Three years, the money will be transferred into the bank treasury as unclaimed fund. The money has now stayed more than three years and I am preparing documentation to prove that this money has been transferred to our bank treasury. It will be between me and you will know the money was not transferred into our treasure. The request of foreigner as next of kin in this transaction is occasioned by the fact that the customer was a foreigner and only a fellow white can stand as next of kin to him from the documents presented before us. In appreciation of your assistance, I am offering you 35% of the total sum. 5% for contingencies (cost of transfer/other charges) likely to be incurred during the course of transaction, while the remaining 55% is for me. Upon receipt of your reply, I will send to you by fax or email the text of the application, which you will complete, and forward to our bank asking for this money to be paid to you as the next of kin to Mr. Morris Thomson. I will not fail to bring to your notice that this transaction is hitch-free and that you should not entertain any fear or anticipate that you will be sending me any funds, as all required arrangements have been made for the transfer. You should contact me immediately as soon as you receive this mail through the above email. PLEASE DO NOT hesitate to contact me immediately should you consider my urgent request. Yours Faithfully, Mr. Clive Buthelezi nklelectronic@aim.com -- Dear friend I make this appeal with the understanding that any facts or opinion expressed by me are giving in confidence and solely for your personal information and use. I am Mr. Clive Buthelezi, the manager of bill and exchange at the foreign remittance department where I work. In my department I discovered an abandoned sum of amount in few millions in American currency, (US Dollars) with account number 8-32902701722 that belongs to one of our foreign customers who died along with his wife and only daughter in a plane crash of Alaska Airlines Flight number 261 which crashed on 31 January 2000. You shall read more about the crash on visiting this site http://www.cnn.com/2000/US/02/01/alaska.airlines.list/ The owner of this account is Mr. Morris Thompson an American and great in industrialist and a resident of Alaska. It is therefore upon this discovery that I now decided to make this business proposal to you and for our bank to release the money to you. You have to follow the instruction which I will send to you as the next of kin or relation to the deceased for safety and subsequent disbursement since nobody is coming for it and I don't want this money to go into our bank treasury as unclaimed bill. The banking law and guidelines here stipulates that if such money remained unclaimed after Three years, the money will be transferred into the bank treasury as unclaimed fund. The money has now stayed more than three years and I am preparing documentation to prove that this money has been transferred to our bank treasury. It will be between me and you will know the money was not transferred into our treasure. The request of foreigner as next of kin in this transaction is occasioned by the fact that the customer was a foreigner and only a fellow white can stand as next of kin to him from the documents presented before us. In appreciation of your assistance, I am offering you 35% of the total sum. 5% for contingencies (cost of transfer/other charges) likely to be incurred during the course of transaction, while the remaining 55% is for me. Upon receipt of your reply, I will send to you by fax or email the text of the application, which you will complete, and forward to our bank asking for this money to be paid to you as the next of kin to Mr. Morris Thomson. I will not fail to bring to your notice that this transaction is hitch-free and that you should not entertain any fear or anticipate that you will be sending me any funds, as all required arrangements have been made for the transfer. You should contact me immediately as soon as you receive this mail through the above email. PLEASE DO NOT hesitate to contact me immediately should you consider my urgent request. Yours Faithfully, Mr. Clive Buthelezi nklelectronic@aim.com -- Dear friend I make this appeal with the understanding that any facts or opinion expressed by me are giving in confidence and solely for your personal information and use. I am Mr. Clive Buthelezi, the manager of bill and exchange at the foreign remittance department where I work. In my department I discovered an abandoned sum of amount in few millions in American currency, (US Dollars) with account number 8-32902701722 that belongs to one of our foreign customers who died along with his wife and only daughter in a plane crash of Alaska Airlines Flight number 261 which crashed on 31 January 2000. You shall read more about the crash on visiting this site http://www.cnn.com/2000/US/02/01/alaska.airlines.list/ The owner of this account is Mr. Morris Thompson an American and great in industrialist and a resident of Alaska. It is therefore upon this discovery that I now decided to make this business proposal to you and for our bank to release the money to you. You have to follow the instruction which I will send to you as the next of kin or relation to the deceased for safety and subsequent disbursement since nobody is coming for it and I don't want this money to go into our bank treasury as unclaimed bill. The banking law and guidelines here stipulates that if such money remained unclaimed after Three years, the money will be transferred into the bank treasury as unclaimed fund. The money has now stayed more than three years and I am preparing documentation to prove that this money has been transferred to our bank treasury. It will be between me and you will know the money was not transferred into our treasure. The request of foreigner as next of kin in this transaction is occasioned by the fact that the customer was a foreigner and only a fellow white can stand as next of kin to him from the documents presented before us. In appreciation of your assistance, I am offering you 35% of the total sum. 5% for contingencies (cost of transfer/other charges) likely to be incurred during the course of transaction, while the remaining 55% is for me. Upon receipt of your reply, I will send to you by fax or email the text of the application, which you will complete, and forward to our bank asking for this money to be paid to you as the next of kin to Mr. Morris Thomson. I will not fail to bring to your notice that this transaction is hitch-free and that you should not entertain any fear or anticipate that you will be sending me any funds, as all required arrangements have been made for the transfer. You should contact me immediately as soon as you receive this mail through the above email. PLEASE DO NOT hesitate to contact me immediately should you consider my urgent request. Yours Faithfully, Mr. Clive Buthelezi nklelectronic@aim.com -- Dear friend I make this appeal with the understanding that any facts or opinion expressed by me are giving in confidence and solely for your personal information and use. I am Mr. Clive Buthelezi, the manager of bill and exchange at the foreign remittance department where I work. In my department I discovered an abandoned sum of amount in few millions in American currency, (US Dollars) with account number 8-32902701722 that belongs to one of our foreign customers who died along with his wife and only daughter in a plane crash of Alaska Airlines Flight number 261 which crashed on 31 January 2000. You shall read more about the crash on visiting this site http://www.cnn.com/2000/US/02/01/alaska.airlines.list/ The owner of this account is Mr. Morris Thompson an American and great in industrialist and a resident of Alaska. It is therefore upon this discovery that I now decided to make this business proposal to you and for our bank to release the money to you. You have to follow the instruction which I will send to you as the next of kin or relation to the deceased for safety and subsequent disbursement since nobody is coming for it and I don't want this money to go into our bank treasury as unclaimed bill. The banking law and guidelines here stipulates that if such money remained unclaimed after Three years, the money will be transferred into the bank treasury as unclaimed fund. The money has now stayed more than three years and I am preparing documentation to prove that this money has been transferred to our bank treasury. It will be between me and you will know the money was not transferred into our treasure. The request of foreigner as next of kin in this transaction is occasioned by the fact that the customer was a foreigner and only a fellow white can stand as next of kin to him from the documents presented before us. In appreciation of your assistance, I am offering you 35% of the total sum. 5% for contingencies (cost of transfer/other charges) likely to be incurred during the course of transaction, while the remaining 55% is for me. Upon receipt of your reply, I will send to you by fax or email the text of the application, which you will complete, and forward to our bank asking for this money to be paid to you as the next of kin to Mr. Morris Thomson. I will not fail to bring to your notice that this transaction is hitch-free and that you should not entertain any fear or anticipate that you will be sending me any funds, as all required arrangements have been made for the transfer. You should contact me immediately as soon as you receive this mail through the above email. PLEASE DO NOT hesitate to contact me immediately should you consider my urgent request. Yours Faithfully, Mr. Clive Buthelezi nklelectronic@aim.com -- Dear friend I make this appeal with the understanding that any facts or opinion expressed by me are giving in confidence and solely for your personal information and use. I am Mr. Clive Buthelezi, the manager of bill and exchange at the foreign remittance department where I work. In my department I discovered an abandoned sum of amount in few millions in American currency, (US Dollars) with account number 8-32902701722 that belongs to one of our foreign customers who died along with his wife and only daughter in a plane crash of Alaska Airlines Flight number 261 which crashed on 31 January 2000. You shall read more about the crash on visiting this site http://www.cnn.com/2000/US/02/01/alaska.airlines.list/ The owner of this account is Mr. Morris Thompson an American and great in industrialist and a resident of Alaska. It is therefore upon this discovery that I now decided to make this business proposal to you and for our bank to release the money to you. You have to follow the instruction which I will send to you as the next of kin or relation to the deceased for safety and subsequent disbursement since nobody is coming for it and I don't want this money to go into our bank treasury as unclaimed bill. The banking law and guidelines here stipulates that if such money remained unclaimed after Three years, the money will be transferred into the bank treasury as unclaimed fund. The money has now stayed more than three years and I am preparing documentation to prove that this money has been transferred to our bank treasury. It will be between me and you will know the money was not transferred into our treasure. The request of foreigner as next of kin in this transaction is occasioned by the fact that the customer was a foreigner and only a fellow white can stand as next of kin to him from the documents presented before us. In appreciation of your assistance, I am offering you 35% of the total sum. 5% for contingencies (cost of transfer/other charges) likely to be incurred during the course of transaction, while the remaining 55% is for me. Upon receipt of your reply, I will send to you by fax or email the text of the application, which you will complete, and forward to our bank asking for this money to be paid to you as the next of kin to Mr. Morris Thomson. I will not fail to bring to your notice that this transaction is hitch-free and that you should not entertain any fear or anticipate that you will be sending me any funds, as all required arrangements have been made for the transfer. You should contact me immediately as soon as you receive this mail through the above email. PLEASE DO NOT hesitate to contact me immediately should you consider my urgent request. Yours Faithfully, Mr. Clive Buthelezi nklelectronic@aim.com -- Dear friend I make this appeal with the understanding that any facts or opinion expressed by me are giving in confidence and solely for your personal information and use. I am Mr. Clive Buthelezi, the manager of bill and exchange at the foreign remittance department where I work. In my department I discovered an abandoned sum of amount in few millions in American currency, (US Dollars) with account number 8-32902701722 that belongs to one of our foreign customers who died along with his wife and only daughter in a plane crash of Alaska Airlines Flight number 261 which crashed on 31 January 2000. You shall read more about the crash on visiting this site http://www.cnn.com/2000/US/02/01/alaska.airlines.list/ The owner of this account is Mr. Morris Thompson an American and great in industrialist and a resident of Alaska. It is therefore upon this discovery that I now decided to make this business proposal to you and for our bank to release the money to you. You have to follow the instruction which I will send to you as the next of kin or relation to the deceased for safety and subsequent disbursement since nobody is coming for it and I don't want this money to go into our bank treasury as unclaimed bill. The banking law and guidelines here stipulates that if such money remained unclaimed after Three years, the money will be transferred into the bank treasury as unclaimed fund. The money has now stayed more than three years and I am preparing documentation to prove that this money has been transferred to our bank treasury. It will be between me and you will know the money was not transferred into our treasure. The request of foreigner as next of kin in this transaction is occasioned by the fact that the customer was a foreigner and only a fellow white can stand as next of kin to him from the documents presented before us. In appreciation of your assistance, I am offering you 35% of the total sum. 5% for contingencies (cost of transfer/other charges) likely to be incurred during the course of transaction, while the remaining 55% is for me. Upon receipt of your reply, I will send to you by fax or email the text of the application, which you will complete, and forward to our bank asking for this money to be paid to you as the next of kin to Mr. Morris Thomson. I will not fail to bring to your notice that this transaction is hitch-free and that you should not entertain any fear or anticipate that you will be sending me any funds, as all required arrangements have been made for the transfer. You should contact me immediately as soon as you receive this mail through the above email. PLEASE DO NOT hesitate to contact me immediately should you consider my urgent request. Yours Faithfully, Mr. Clive Buthelezi nklelectronic@aim.com -- Dear friend I make this appeal with the understanding that any facts or opinion expressed by me are giving in confidence and solely for your personal information and use. I am Mr. Clive Buthelezi, the manager of bill and exchange at the foreign remittance department where I work. In my department I discovered an abandoned sum of amount in few millions in American currency, (US Dollars) with account number 8-32902701722 that belongs to one of our foreign customers who died along with his wife and only daughter in a plane crash of Alaska Airlines Flight number 261 which crashed on 31 January 2000. You shall read more about the crash on visiting this site http://www.cnn.com/2000/US/02/01/alaska.airlines.list/ The owner of this account is Mr. Morris Thompson an American and great in industrialist and a resident of Alaska. It is therefore upon this discovery that I now decided to make this business proposal to you and for our bank to release the money to you. You have to follow the instruction which I will send to you as the next of kin or relation to the deceased for safety and subsequent disbursement since nobody is coming for it and I don't want this money to go into our bank treasury as unclaimed bill. The banking law and guidelines here stipulates that if such money remained unclaimed after Three years, the money will be transferred into the bank treasury as unclaimed fund. The money has now stayed more than three years and I am preparing documentation to prove that this money has been transferred to our bank treasury. It will be between me and you will know the money was not transferred into our treasure. The request of foreigner as next of kin in this transaction is occasioned by the fact that the customer was a foreigner and only a fellow white can stand as next of kin to him from the documents presented before us. In appreciation of your assistance, I am offering you 35% of the total sum. 5% for contingencies (cost of transfer/other charges) likely to be incurred during the course of transaction, while the remaining 55% is for me. Upon receipt of your reply, I will send to you by fax or email the text of the application, which you will complete, and forward to our bank asking for this money to be paid to you as the next of kin to Mr. Morris Thomson. I will not fail to bring to your notice that this transaction is hitch-free and that you should not entertain any fear or anticipate that you will be sending me any funds, as all required arrangements have been made for the transfer. You should contact me immediately as soon as you receive this mail through the above email. PLEASE DO NOT hesitate to contact me immediately should you consider my urgent request. Yours Faithfully, Mr. Clive Buthelezi nklelectronic@aim.com -- Dear friend I make this appeal with the understanding that any facts or opinion expressed by me are giving in confidence and solely for your personal information and use. I am Mr. Clive Buthelezi, the manager of bill and exchange at the foreign remittance department where I work. In my department I discovered an abandoned sum of amount in few millions in American currency, (US Dollars) with account number 8-32902701722 that belongs to one of our foreign customers who died along with his wife and only daughter in a plane crash of Alaska Airlines Flight number 261 which crashed on 31 January 2000. You shall read more about the crash on visiting this site http://www.cnn.com/2000/US/02/01/alaska.airlines.list/ The owner of this account is Mr. Morris Thompson an American and great in industrialist and a resident of Alaska. It is therefore upon this discovery that I now decided to make this business proposal to you and for our bank to release the money to you. You have to follow the instruction which I will send to you as the next of kin or relation to the deceased for safety and subsequent disbursement since nobody is coming for it and I don't want this money to go into our bank treasury as unclaimed bill. The banking law and guidelines here stipulates that if such money remained unclaimed after Three years, the money will be transferred into the bank treasury as unclaimed fund. The money has now stayed more than three years and I am preparing documentation to prove that this money has been transferred to our bank treasury. It will be between me and you will know the money was not transferred into our treasure. The request of foreigner as next of kin in this transaction is occasioned by the fact that the customer was a foreigner and only a fellow white can stand as next of kin to him from the documents presented before us. In appreciation of your assistance, I am offering you 35% of the total sum. 5% for contingencies (cost of transfer/other charges) likely to be incurred during the course of transaction, while the remaining 55% is for me. Upon receipt of your reply, I will send to you by fax or email the text of the application, which you will complete, and forward to our bank asking for this money to be paid to you as the next of kin to Mr. Morris Thomson. I will not fail to bring to your notice that this transaction is hitch-free and that you should not entertain any fear or anticipate that you will be sending me any funds, as all required arrangements have been made for the transfer. You should contact me immediately as soon as you receive this mail through the above email. PLEASE DO NOT hesitate to contact me immediately should you consider my urgent request. Yours Faithfully, Mr. Clive Buthelezi nklelectronic@aim.com -- Dear friend I make this appeal with the understanding that any facts or opinion expressed by me are giving in confidence and solely for your personal information and use. I am Mr. Clive Buthelezi, the manager of bill and exchange at the foreign remittance department where I work. In my department I discovered an abandoned sum of amount in few millions in American currency, (US Dollars) with account number 8-32902701722 that belongs to one of our foreign customers who died along with his wife and only daughter in a plane crash of Alaska Airlines Flight number 261 which crashed on 31 January 2000. You shall read more about the crash on visiting this site http://www.cnn.com/2000/US/02/01/alaska.airlines.list/ The owner of this account is Mr. Morris Thompson an American and great in industrialist and a resident of Alaska. It is therefore upon this discovery that I now decided to make this business proposal to you and for our bank to release the money to you. You have to follow the instruction which I will send to you as the next of kin or relation to the deceased for safety and subsequent disbursement since nobody is coming for it and I don't want this money to go into our bank treasury as unclaimed bill. The banking law and guidelines here stipulates that if such money remained unclaimed after Three years, the money will be transferred into the bank treasury as unclaimed fund. The money has now stayed more than three years and I am preparing documentation to prove that this money has been transferred to our bank treasury. It will be between me and you will know the money was not transferred into our treasure. The request of foreigner as next of kin in this transaction is occasioned by the fact that the customer was a foreigner and only a fellow white can stand as next of kin to him from the documents presented before us. In appreciation of your assistance, I am offering you 35% of the total sum. 5% for contingencies (cost of transfer/other charges) likely to be incurred during the course of transaction, while the remaining 55% is for me. Upon receipt of your reply, I will send to you by fax or email the text of the application, which you will complete, and forward to our bank asking for this money to be paid to you as the next of kin to Mr. Morris Thomson. I will not fail to bring to your notice that this transaction is hitch-free and that you should not entertain any fear or anticipate that you will be sending me any funds, as all required arrangements have been made for the transfer. You should contact me immediately as soon as you receive this mail through the above email. PLEASE DO NOT hesitate to contact me immediately should you consider my urgent request. Yours Faithfully, Mr. Clive Buthelezi nklelectronic@aim.com -- Dear friend I make this appeal with the understanding that any facts or opinion expressed by me are giving in confidence and solely for your personal information and use. I am Mr. Clive Buthelezi, the manager of bill and exchange at the foreign remittance department where I work. In my department I discovered an abandoned sum of amount in few millions in American currency, (US Dollars) with account number 8-32902701722 that belongs to one of our foreign customers who died along with his wife and only daughter in a plane crash of Alaska Airlines Flight number 261 which crashed on 31 January 2000. You shall read more about the crash on visiting this site http://www.cnn.com/2000/US/02/01/alaska.airlines.list/ The owner of this account is Mr. Morris Thompson an American and great in industrialist and a resident of Alaska. It is therefore upon this discovery that I now decided to make this business proposal to you and for our bank to release the money to you. You have to follow the instruction which I will send to you as the next of kin or relation to the deceased for safety and subsequent disbursement since nobody is coming for it and I don't want this money to go into our bank treasury as unclaimed bill. The banking law and guidelines here stipulates that if such money remained unclaimed after Three years, the money will be transferred into the bank treasury as unclaimed fund. The money has now stayed more than three years and I am preparing documentation to prove that this money has been transferred to our bank treasury. It will be between me and you will know the money was not transferred into our treasure. The request of foreigner as next of kin in this transaction is occasioned by the fact that the customer was a foreigner and only a fellow white can stand as next of kin to him from the documents presented before us. In appreciation of your assistance, I am offering you 35% of the total sum. 5% for contingencies (cost of transfer/other charges) likely to be incurred during the course of transaction, while the remaining 55% is for me. Upon receipt of your reply, I will send to you by fax or email the text of the application, which you will complete, and forward to our bank asking for this money to be paid to you as the next of kin to Mr. Morris Thomson. I will not fail to bring to your notice that this transaction is hitch-free and that you should not entertain any fear or anticipate that you will be sending me any funds, as all required arrangements have been made for the transfer. You should contact me immediately as soon as you receive this mail through the above email. PLEASE DO NOT hesitate to contact me immediately should you consider my urgent request. Yours Faithfully, Mr. Clive Buthelezi nklelectronic@aim.com -- Dear friend I make this appeal with the understanding that any facts or opinion expressed by me are giving in confidence and solely for your personal information and use. I am Mr. Clive Buthelezi, the manager of bill and exchange at the foreign remittance department where I work. In my department I discovered an abandoned sum of amount in few millions in American currency, (US Dollars) with account number 8-32902701722 that belongs to one of our foreign customers who died along with his wife and only daughter in a plane crash of Alaska Airlines Flight number 261 which crashed on 31 January 2000. You shall read more about the crash on visiting this site http://www.cnn.com/2000/US/02/01/alaska.airlines.list/ The owner of this account is Mr. Morris Thompson an American and great in industrialist and a resident of Alaska. It is therefore upon this discovery that I now decided to make this business proposal to you and for our bank to release the money to you. You have to follow the instruction which I will send to you as the next of kin or relation to the deceased for safety and subsequent disbursement since nobody is coming for it and I don't want this money to go into our bank treasury as unclaimed bill. The banking law and guidelines here stipulates that if such money remained unclaimed after Three years, the money will be transferred into the bank treasury as unclaimed fund. The money has now stayed more than three years and I am preparing documentation to prove that this money has been transferred to our bank treasury. It will be between me and you will know the money was not transferred into our treasure. The request of foreigner as next of kin in this transaction is occasioned by the fact that the customer was a foreigner and only a fellow white can stand as next of kin to him from the documents presented before us. In appreciation of your assistance, I am offering you 35% of the total sum. 5% for contingencies (cost of transfer/other charges) likely to be incurred during the course of transaction, while the remaining 55% is for me. Upon receipt of your reply, I will send to you by fax or email the text of the application, which you will complete, and forward to our bank asking for this money to be paid to you as the next of kin to Mr. Morris Thomson. I will not fail to bring to your notice that this transaction is hitch-free and that you should not entertain any fear or anticipate that you will be sending me any funds, as all required arrangements have been made for the transfer. You should contact me immediately as soon as you receive this mail through the above email. PLEASE DO NOT hesitate to contact me immediately should you consider my urgent request. Yours Faithfully, Mr. Clive Buthelezi nklelectronic@aim.com -- Dear friend I make this appeal with the understanding that any facts or opinion expressed by me are giving in confidence and solely for your personal information and use. I am Mr. Clive Buthelezi, the manager of bill and exchange at the foreign remittance department where I work. In my department I discovered an abandoned sum of amount in few millions in American currency, (US Dollars) with account number 8-32902701722 that belongs to one of our foreign customers who died along with his wife and only daughter in a plane crash of Alaska Airlines Flight number 261 which crashed on 31 January 2000. You shall read more about the crash on visiting this site http://www.cnn.com/2000/US/02/01/alaska.airlines.list/ The owner of this account is Mr. Morris Thompson an American and great in industrialist and a resident of Alaska. It is therefore upon this discovery that I now decided to make this business proposal to you and for our bank to release the money to you. You have to follow the instruction which I will send to you as the next of kin or relation to the deceased for safety and subsequent disbursement since nobody is coming for it and I don't want this money to go into our bank treasury as unclaimed bill. The banking law and guidelines here stipulates that if such money remained unclaimed after Three years, the money will be transferred into the bank treasury as unclaimed fund. The money has now stayed more than three years and I am preparing documentation to prove that this money has been transferred to our bank treasury. It will be between me and you will know the money was not transferred into our treasure. The request of foreigner as next of kin in this transaction is occasioned by the fact that the customer was a foreigner and only a fellow white can stand as next of kin to him from the documents presented before us. In appreciation of your assistance, I am offering you 35% of the total sum. 5% for contingencies (cost of transfer/other charges) likely to be incurred during the course of transaction, while the remaining 55% is for me. Upon receipt of your reply, I will send to you by fax or email the text of the application, which you will complete, and forward to our bank asking for this money to be paid to you as the next of kin to Mr. Morris Thomson. I will not fail to bring to your notice that this transaction is hitch-free and that you should not entertain any fear or anticipate that you will be sending me any funds, as all required arrangements have been made for the transfer. You should contact me immediately as soon as you receive this mail through the above email. PLEASE DO NOT hesitate to contact me immediately should you consider my urgent request. Yours Faithfully, Mr. Clive Buthelezi nklelectronic@aim.com -- Dear friend I make this appeal with the understanding that any facts or opinion expressed by me are giving in confidence and solely for your personal information and use. I am Mr. Clive Buthelezi, the manager of bill and exchange at the foreign remittance department where I work. In my department I discovered an abandoned sum of amount in few millions in American currency, (US Dollars) with account number 8-32902701722 that belongs to one of our foreign customers who died along with his wife and only daughter in a plane crash of Alaska Airlines Flight number 261 which crashed on 31 January 2000. You shall read more about the crash on visiting this site http://www.cnn.com/2000/US/02/01/alaska.airlines.list/ The owner of this account is Mr. Morris Thompson an American and great in industrialist and a resident of Alaska. It is therefore upon this discovery that I now decided to make this business proposal to you and for our bank to release the money to you. You have to follow the instruction which I will send to you as the next of kin or relation to the deceased for safety and subsequent disbursement since nobody is coming for it and I don't want this money to go into our bank treasury as unclaimed bill. The banking law and guidelines here stipulates that if such money remained unclaimed after Three years, the money will be transferred into the bank treasury as unclaimed fund. The money has now stayed more than three years and I am preparing documentation to prove that this money has been transferred to our bank treasury. It will be between me and you will know the money was not transferred into our treasure. The request of foreigner as next of kin in this transaction is occasioned by the fact that the customer was a foreigner and only a fellow white can stand as next of kin to him from the documents presented before us. In appreciation of your assistance, I am offering you 35% of the total sum. 5% for contingencies (cost of transfer/other charges) likely to be incurred during the course of transaction, while the remaining 55% is for me. Upon receipt of your reply, I will send to you by fax or email the text of the application, which you will complete, and forward to our bank asking for this money to be paid to you as the next of kin to Mr. Morris Thomson. I will not fail to bring to your notice that this transaction is hitch-free and that you should not entertain any fear or anticipate that you will be sending me any funds, as all required arrangements have been made for the transfer. You should contact me immediately as soon as you receive this mail through the above email. PLEASE DO NOT hesitate to contact me immediately should you consider my urgent request. Yours Faithfully, Mr. Clive Buthelezi nklelectronic@aim.com -- Dear friend I make this appeal with the understanding that any facts or opinion expressed by me are giving in confidence and solely for your personal information and use. I am Mr. Clive Buthelezi, the manager of bill and exchange at the foreign remittance department where I work. In my department I discovered an abandoned sum of amount in few millions in American currency, (US Dollars) with account number 8-32902701722 that belongs to one of our foreign customers who died along with his wife and only daughter in a plane crash of Alaska Airlines Flight number 261 which crashed on 31 January 2000. You shall read more about the crash on visiting this site http://www.cnn.com/2000/US/02/01/alaska.airlines.list/ The owner of this account is Mr. Morris Thompson an American and great in industrialist and a resident of Alaska. It is therefore upon this discovery that I now decided to make this business proposal to you and for our bank to release the money to you. You have to follow the instruction which I will send to you as the next of kin or relation to the deceased for safety and subsequent disbursement since nobody is coming for it and I don't want this money to go into our bank treasury as unclaimed bill. The banking law and guidelines here stipulates that if such money remained unclaimed after Three years, the money will be transferred into the bank treasury as unclaimed fund. The money has now stayed more than three years and I am preparing documentation to prove that this money has been transferred to our bank treasury. It will be between me and you will know the money was not transferred into our treasure. The request of foreigner as next of kin in this transaction is occasioned by the fact that the customer was a foreigner and only a fellow white can stand as next of kin to him from the documents presented before us. In appreciation of your assistance, I am offering you 35% of the total sum. 5% for contingencies (cost of transfer/other charges) likely to be incurred during the course of transaction, while the remaining 55% is for me. Upon receipt of your reply, I will send to you by fax or email the text of the application, which you will complete, and forward to our bank asking for this money to be paid to you as the next of kin to Mr. Morris Thomson. I will not fail to bring to your notice that this transaction is hitch-free and that you should not entertain any fear or anticipate that you will be sending me any funds, as all required arrangements have been made for the transfer. You should contact me immediately as soon as you receive this mail through the above email. PLEASE DO NOT hesitate to contact me immediately should you consider my urgent request. Yours Faithfully, Mr. Clive Buthelezi nklelectronic@aim.com -- Dear friend I make this appeal with the understanding that any facts or opinion expressed by me are giving in confidence and solely for your personal information and use. I am Mr. Clive Buthelezi, the manager of bill and exchange at the foreign remittance department where I work. In my department I discovered an abandoned sum of amount in few millions in American currency, (US Dollars) with account number 8-32902701722 that belongs to one of our foreign customers who died along with his wife and only daughter in a plane crash of Alaska Airlines Flight number 261 which crashed on 31 January 2000. You shall read more about the crash on visiting this site http://www.cnn.com/2000/US/02/01/alaska.airlines.list/ The owner of this account is Mr. Morris Thompson an American and great in industrialist and a resident of Alaska. It is therefore upon this discovery that I now decided to make this business proposal to you and for our bank to release the money to you. You have to follow the instruction which I will send to you as the next of kin or relation to the deceased for safety and subsequent disbursement since nobody is coming for it and I don't want this money to go into our bank treasury as unclaimed bill. The banking law and guidelines here stipulates that if such money remained unclaimed after Three years, the money will be transferred into the bank treasury as unclaimed fund. The money has now stayed more than three years and I am preparing documentation to prove that this money has been transferred to our bank treasury. It will be between me and you will know the money was not transferred into our treasure. The request of foreigner as next of kin in this transaction is occasioned by the fact that the customer was a foreigner and only a fellow white can stand as next of kin to him from the documents presented before us. In appreciation of your assistance, I am offering you 35% of the total sum. 5% for contingencies (cost of transfer/other charges) likely to be incurred during the course of transaction, while the remaining 55% is for me. Upon receipt of your reply, I will send to you by fax or email the text of the application, which you will complete, and forward to our bank asking for this money to be paid to you as the next of kin to Mr. Morris Thomson. I will not fail to bring to your notice that this transaction is hitch-free and that you should not entertain any fear or anticipate that you will be sending me any funds, as all required arrangements have been made for the transfer. You should contact me immediately as soon as you receive this mail through the above email. PLEASE DO NOT hesitate to contact me immediately should you consider my urgent request. Yours Faithfully, Mr. Clive Buthelezi nklelectronic@aim.com -- Dear friend I make this appeal with the understanding that any facts or opinion expressed by me are giving in confidence and solely for your personal information and use. I am Mr. Clive Buthelezi, the manager of bill and exchange at the foreign remittance department where I work. In my department I discovered an abandoned sum of amount in few millions in American currency, (US Dollars) with account number 8-32902701722 that belongs to one of our foreign customers who died along with his wife and only daughter in a plane crash of Alaska Airlines Flight number 261 which crashed on 31 January 2000. You shall read more about the crash on visiting this site http://www.cnn.com/2000/US/02/01/alaska.airlines.list/ The owner of this account is Mr. Morris Thompson an American and great in industrialist and a resident of Alaska. It is therefore upon this discovery that I now decided to make this business proposal to you and for our bank to release the money to you. You have to follow the instruction which I will send to you as the next of kin or relation to the deceased for safety and subsequent disbursement since nobody is coming for it and I don't want this money to go into our bank treasury as unclaimed bill. The banking law and guidelines here stipulates that if such money remained unclaimed after Three years, the money will be transferred into the bank treasury as unclaimed fund. The money has now stayed more than three years and I am preparing documentation to prove that this money has been transferred to our bank treasury. It will be between me and you will know the money was not transferred into our treasure. The request of foreigner as next of kin in this transaction is occasioned by the fact that the customer was a foreigner and only a fellow white can stand as next of kin to him from the documents presented before us. In appreciation of your assistance, I am offering you 35% of the total sum. 5% for contingencies (cost of transfer/other charges) likely to be incurred during the course of transaction, while the remaining 55% is for me. Upon receipt of your reply, I will send to you by fax or email the text of the application, which you will complete, and forward to our bank asking for this money to be paid to you as the next of kin to Mr. Morris Thomson. I will not fail to bring to your notice that this transaction is hitch-free and that you should not entertain any fear or anticipate that you will be sending me any funds, as all required arrangements have been made for the transfer. You should contact me immediately as soon as you receive this mail through the above email. PLEASE DO NOT hesitate to contact me immediately should you consider my urgent request. Yours Faithfully, Mr. Clive Buthelezi nklelectronic@aim.com -- Dear friend I make this appeal with the understanding that any facts or opinion expressed by me are giving in confidence and solely for your personal information and use. I am Mr. Clive Buthelezi, the manager of bill and exchange at the foreign remittance department where I work. In my department I discovered an abandoned sum of amount in few millions in American currency, (US Dollars) with account number 8-32902701722 that belongs to one of our foreign customers who died along with his wife and only daughter in a plane crash of Alaska Airlines Flight number 261 which crashed on 31 January 2000. You shall read more about the crash on visiting this site http://www.cnn.com/2000/US/02/01/alaska.airlines.list/ The owner of this account is Mr. Morris Thompson an American and great in industrialist and a resident of Alaska. It is therefore upon this discovery that I now decided to make this business proposal to you and for our bank to release the money to you. You have to follow the instruction which I will send to you as the next of kin or relation to the deceased for safety and subsequent disbursement since nobody is coming for it and I don't want this money to go into our bank treasury as unclaimed bill. The banking law and guidelines here stipulates that if such money remained unclaimed after Three years, the money will be transferred into the bank treasury as unclaimed fund. The money has now stayed more than three years and I am preparing documentation to prove that this money has been transferred to our bank treasury. It will be between me and you will know the money was not transferred into our treasure. The request of foreigner as next of kin in this transaction is occasioned by the fact that the customer was a foreigner and only a fellow white can stand as next of kin to him from the documents presented before us. In appreciation of your assistance, I am offering you 35% of the total sum. 5% for contingencies (cost of transfer/other charges) likely to be incurred during the course of transaction, while the remaining 55% is for me. Upon receipt of your reply, I will send to you by fax or email the text of the application, which you will complete, and forward to our bank asking for this money to be paid to you as the next of kin to Mr. Morris Thomson. I will not fail to bring to your notice that this transaction is hitch-free and that you should not entertain any fear or anticipate that you will be sending me any funds, as all required arrangements have been made for the transfer. You should contact me immediately as soon as you receive this mail through the above email. PLEASE DO NOT hesitate to contact me immediately should you consider my urgent request. Yours Faithfully, Mr. Clive Buthelezi nklelectronic@aim.com -- Dear friend I make this appeal with the understanding that any facts or opinion expressed by me are giving in confidence and solely for your personal information and use. I am Mr. Clive Buthelezi, the manager of bill and exchange at the foreign remittance department where I work. In my department I discovered an abandoned sum of amount in few millions in American currency, (US Dollars) with account number 8-32902701722 that belongs to one of our foreign customers who died along with his wife and only daughter in a plane crash of Alaska Airlines Flight number 261 which crashed on 31 January 2000. You shall read more about the crash on visiting this site http://www.cnn.com/2000/US/02/01/alaska.airlines.list/ The owner of this account is Mr. Morris Thompson an American and great in industrialist and a resident of Alaska. It is therefore upon this discovery that I now decided to make this business proposal to you and for our bank to release the money to you. You have to follow the instruction which I will send to you as the next of kin or relation to the deceased for safety and subsequent disbursement since nobody is coming for it and I don't want this money to go into our bank treasury as unclaimed bill. The banking law and guidelines here stipulates that if such money remained unclaimed after Three years, the money will be transferred into the bank treasury as unclaimed fund. The money has now stayed more than three years and I am preparing documentation to prove that this money has been transferred to our bank treasury. It will be between me and you will know the money was not transferred into our treasure. The request of foreigner as next of kin in this transaction is occasioned by the fact that the customer was a foreigner and only a fellow white can stand as next of kin to him from the documents presented before us. In appreciation of your assistance, I am offering you 35% of the total sum. 5% for contingencies (cost of transfer/other charges) likely to be incurred during the course of transaction, while the remaining 55% is for me. Upon receipt of your reply, I will send to you by fax or email the text of the application, which you will complete, and forward to our bank asking for this money to be paid to you as the next of kin to Mr. Morris Thomson. I will not fail to bring to your notice that this transaction is hitch-free and that you should not entertain any fear or anticipate that you will be sending me any funds, as all required arrangements have been made for the transfer. You should contact me immediately as soon as you receive this mail through the above email. PLEASE DO NOT hesitate to contact me immediately should you consider my urgent request. Yours Faithfully, Mr. Clive Buthelezi nklelectronic@aim.com -- Dear friend I make this appeal with the understanding that any facts or opinion expressed by me are giving in confidence and solely for your personal information and use. I am Mr. Clive Buthelezi, the manager of bill and exchange at the foreign remittance department where I work. In my department I discovered an abandoned sum of amount in few millions in American currency, (US Dollars) with account number 8-32902701722 that belongs to one of our foreign customers who died along with his wife and only daughter in a plane crash of Alaska Airlines Flight number 261 which crashed on 31 January 2000. You shall read more about the crash on visiting this site http://www.cnn.com/2000/US/02/01/alaska.airlines.list/ The owner of this account is Mr. Morris Thompson an American and great in industrialist and a resident of Alaska. It is therefore upon this discovery that I now decided to make this business proposal to you and for our bank to release the money to you. You have to follow the instruction which I will send to you as the next of kin or relation to the deceased for safety and subsequent disbursement since nobody is coming for it and I don't want this money to go into our bank treasury as unclaimed bill. The banking law and guidelines here stipulates that if such money remained unclaimed after Three years, the money will be transferred into the bank treasury as unclaimed fund. The money has now stayed more than three years and I am preparing documentation to prove that this money has been transferred to our bank treasury. It will be between me and you will know the money was not transferred into our treasure. The request of foreigner as next of kin in this transaction is occasioned by the fact that the customer was a foreigner and only a fellow white can stand as next of kin to him from the documents presented before us. In appreciation of your assistance, I am offering you 35% of the total sum. 5% for contingencies (cost of transfer/other charges) likely to be incurred during the course of transaction, while the remaining 55% is for me. Upon receipt of your reply, I will send to you by fax or email the text of the application, which you will complete, and forward to our bank asking for this money to be paid to you as the next of kin to Mr. Morris Thomson. I will not fail to bring to your notice that this transaction is hitch-free and that you should not entertain any fear or anticipate that you will be sending me any funds, as all required arrangements have been made for the transfer. You should contact me immediately as soon as you receive this mail through the above email. PLEASE DO NOT hesitate to contact me immediately should you consider my urgent request. Yours Faithfully, Mr. Clive Buthelezi nklelectronic@aim.com -- Dear friend I make this appeal with the understanding that any facts or opinion expressed by me are giving in confidence and solely for your personal information and use. I am Mr. Clive Buthelezi, the manager of bill and exchange at the foreign remittance department where I work. In my department I discovered an abandoned sum of amount in few millions in American currency, (US Dollars) with account number 8-32902701722 that belongs to one of our foreign customers who died along with his wife and only daughter in a plane crash of Alaska Airlines Flight number 261 which crashed on 31 January 2000. You shall read more about the crash on visiting this site http://www.cnn.com/2000/US/02/01/alaska.airlines.list/ The owner of this account is Mr. Morris Thompson an American and great in industrialist and a resident of Alaska. It is therefore upon this discovery that I now decided to make this business proposal to you and for our bank to release the money to you. You have to follow the instruction which I will send to you as the next of kin or relation to the deceased for safety and subsequent disbursement since nobody is coming for it and I don't want this money to go into our bank treasury as unclaimed bill. The banking law and guidelines here stipulates that if such money remained unclaimed after Three years, the money will be transferred into the bank treasury as unclaimed fund. The money has now stayed more than three years and I am preparing documentation to prove that this money has been transferred to our bank treasury. It will be between me and you will know the money was not transferred into our treasure. The request of foreigner as next of kin in this transaction is occasioned by the fact that the customer was a foreigner and only a fellow white can stand as next of kin to him from the documents presented before us. In appreciation of your assistance, I am offering you 35% of the total sum. 5% for contingencies (cost of transfer/other charges) likely to be incurred during the course of transaction, while the remaining 55% is for me. Upon receipt of your reply, I will send to you by fax or email the text of the application, which you will complete, and forward to our bank asking for this money to be paid to you as the next of kin to Mr. Morris Thomson. I will not fail to bring to your notice that this transaction is hitch-free and that you should not entertain any fear or anticipate that you will be sending me any funds, as all required arrangements have been made for the transfer. You should contact me immediately as soon as you receive this mail through the above email. PLEASE DO NOT hesitate to contact me immediately should you consider my urgent request. Yours Faithfully, Mr. Clive Buthelezi nklelectronic@aim.com -- Dear friend I make this appeal with the understanding that any facts or opinion expressed by me are giving in confidence and solely for your personal information and use. I am Mr. Clive Buthelezi, the manager of bill and exchange at the foreign remittance department where I work. In my department I discovered an abandoned sum of amount in few millions in American currency, (US Dollars) with account number 8-32902701722 that belongs to one of our foreign customers who died along with his wife and only daughter in a plane crash of Alaska Airlines Flight number 261 which crashed on 31 January 2000. You shall read more about the crash on visiting this site http://www.cnn.com/2000/US/02/01/alaska.airlines.list/ The owner of this account is Mr. Morris Thompson an American and great in industrialist and a resident of Alaska. It is therefore upon this discovery that I now decided to make this business proposal to you and for our bank to release the money to you. You have to follow the instruction which I will send to you as the next of kin or relation to the deceased for safety and subsequent disbursement since nobody is coming for it and I don't want this money to go into our bank treasury as unclaimed bill. The banking law and guidelines here stipulates that if such money remained unclaimed after Three years, the money will be transferred into the bank treasury as unclaimed fund. The money has now stayed more than three years and I am preparing documentation to prove that this money has been transferred to our bank treasury. It will be between me and you will know the money was not transferred into our treasure. The request of foreigner as next of kin in this transaction is occasioned by the fact that the customer was a foreigner and only a fellow white can stand as next of kin to him from the documents presented before us. In appreciation of your assistance, I am offering you 35% of the total sum. 5% for contingencies (cost of transfer/other charges) likely to be incurred during the course of transaction, while the remaining 55% is for me. Upon receipt of your reply, I will send to you by fax or email the text of the application, which you will complete, and forward to our bank asking for this money to be paid to you as the next of kin to Mr. Morris Thomson. I will not fail to bring to your notice that this transaction is hitch-free and that you should not entertain any fear or anticipate that you will be sending me any funds, as all required arrangements have been made for the transfer. You should contact me immediately as soon as you receive this mail through the above email. PLEASE DO NOT hesitate to contact me immediately should you consider my urgent request. Yours Faithfully, Mr. Clive Buthelezi nklelectronic@aim.com -- Dear friend I make this appeal with the understanding that any facts or opinion expressed by me are giving in confidence and solely for your personal information and use. I am Mr. Clive Buthelezi, the manager of bill and exchange at the foreign remittance department where I work. In my department I discovered an abandoned sum of amount in few millions in American currency, (US Dollars) with account number 8-32902701722 that belongs to one of our foreign customers who died along with his wife and only daughter in a plane crash of Alaska Airlines Flight number 261 which crashed on 31 January 2000. You shall read more about the crash on visiting this site http://www.cnn.com/2000/US/02/01/alaska.airlines.list/ The owner of this account is Mr. Morris Thompson an American and great in industrialist and a resident of Alaska. It is therefore upon this discovery that I now decided to make this business proposal to you and for our bank to release the money to you. You have to follow the instruction which I will send to you as the next of kin or relation to the deceased for safety and subsequent disbursement since nobody is coming for it and I don't want this money to go into our bank treasury as unclaimed bill. The banking law and guidelines here stipulates that if such money remained unclaimed after Three years, the money will be transferred into the bank treasury as unclaimed fund. The money has now stayed more than three years and I am preparing documentation to prove that this money has been transferred to our bank treasury. It will be between me and you will know the money was not transferred into our treasure. The request of foreigner as next of kin in this transaction is occasioned by the fact that the customer was a foreigner and only a fellow white can stand as next of kin to him from the documents presented before us. In appreciation of your assistance, I am offering you 35% of the total sum. 5% for contingencies (cost of transfer/other charges) likely to be incurred during the course of transaction, while the remaining 55% is for me. Upon receipt of your reply, I will send to you by fax or email the text of the application, which you will complete, and forward to our bank asking for this money to be paid to you as the next of kin to Mr. Morris Thomson. I will not fail to bring to your notice that this transaction is hitch-free and that you should not entertain any fear or anticipate that you will be sending me any funds, as all required arrangements have been made for the transfer. You should contact me immediately as soon as you receive this mail through the above email. PLEASE DO NOT hesitate to contact me immediately should you consider my urgent request. Yours Faithfully, Mr. Clive Buthelezi nklelectronic@aim.com -- Dear friend I make this appeal with the understanding that any facts or opinion expressed by me are giving in confidence and solely for your personal information and use. I am Mr. Clive Buthelezi, the manager of bill and exchange at the foreign remittance department where I work. In my department I discovered an abandoned sum of amount in few millions in American currency, (US Dollars) with account number 8-32902701722 that belongs to one of our foreign customers who died along with his wife and only daughter in a plane crash of Alaska Airlines Flight number 261 which crashed on 31 January 2000. You shall read more about the crash on visiting this site http://www.cnn.com/2000/US/02/01/alaska.airlines.list/ The owner of this account is Mr. Morris Thompson an American and great in industrialist and a resident of Alaska. It is therefore upon this discovery that I now decided to make this business proposal to you and for our bank to release the money to you. You have to follow the instruction which I will send to you as the next of kin or relation to the deceased for safety and subsequent disbursement since nobody is coming for it and I don't want this money to go into our bank treasury as unclaimed bill. The banking law and guidelines here stipulates that if such money remained unclaimed after Three years, the money will be transferred into the bank treasury as unclaimed fund. The money has now stayed more than three years and I am preparing documentation to prove that this money has been transferred to our bank treasury. It will be between me and you will know the money was not transferred into our treasure. The request of foreigner as next of kin in this transaction is occasioned by the fact that the customer was a foreigner and only a fellow white can stand as next of kin to him from the documents presented before us. In appreciation of your assistance, I am offering you 35% of the total sum. 5% for contingencies (cost of transfer/other charges) likely to be incurred during the course of transaction, while the remaining 55% is for me. Upon receipt of your reply, I will send to you by fax or email the text of the application, which you will complete, and forward to our bank asking for this money to be paid to you as the next of kin to Mr. Morris Thomson. I will not fail to bring to your notice that this transaction is hitch-free and that you should not entertain any fear or anticipate that you will be sending me any funds, as all required arrangements have been made for the transfer. You should contact me immediately as soon as you receive this mail through the above email. PLEASE DO NOT hesitate to contact me immediately should you consider my urgent request. Yours Faithfully, Mr. Clive Buthelezi nklelectronic@aim.com -- Dear friend I make this appeal with the understanding that any facts or opinion expressed by me are giving in confidence and solely for your personal information and use. I am Mr. Clive Buthelezi, the manager of bill and exchange at the foreign remittance department where I work. In my department I discovered an abandoned sum of amount in few millions in American currency, (US Dollars) with account number 8-32902701722 that belongs to one of our foreign customers who died along with his wife and only daughter in a plane crash of Alaska Airlines Flight number 261 which crashed on 31 January 2000. You shall read more about the crash on visiting this site http://www.cnn.com/2000/US/02/01/alaska.airlines.list/ The owner of this account is Mr. Morris Thompson an American and great in industrialist and a resident of Alaska. It is therefore upon this discovery that I now decided to make this business proposal to you and for our bank to release the money to you. You have to follow the instruction which I will send to you as the next of kin or relation to the deceased for safety and subsequent disbursement since nobody is coming for it and I don't want this money to go into our bank treasury as unclaimed bill. The banking law and guidelines here stipulates that if such money remained unclaimed after Three years, the money will be transferred into the bank treasury as unclaimed fund. The money has now stayed more than three years and I am preparing documentation to prove that this money has been transferred to our bank treasury. It will be between me and you will know the money was not transferred into our treasure. The request of foreigner as next of kin in this transaction is occasioned by the fact that the customer was a foreigner and only a fellow white can stand as next of kin to him from the documents presented before us. In appreciation of your assistance, I am offering you 35% of the total sum. 5% for contingencies (cost of transfer/other charges) likely to be incurred during the course of transaction, while the remaining 55% is for me. Upon receipt of your reply, I will send to you by fax or email the text of the application, which you will complete, and forward to our bank asking for this money to be paid to you as the next of kin to Mr. Morris Thomson. I will not fail to bring to your notice that this transaction is hitch-free and that you should not entertain any fear or anticipate that you will be sending me any funds, as all required arrangements have been made for the transfer. You should contact me immediately as soon as you receive this mail through the above email. PLEASE DO NOT hesitate to contact me immediately should you consider my urgent request. Yours Faithfully, Mr. Clive Buthelezi nklelectronic@aim.com -- Dear friend I make this appeal with the understanding that any facts or opinion expressed by me are giving in confidence and solely for your personal information and use. I am Mr. Clive Buthelezi, the manager of bill and exchange at the foreign remittance department where I work. In my department I discovered an abandoned sum of amount in few millions in American currency, (US Dollars) with account number 8-32902701722 that belongs to one of our foreign customers who died along with his wife and only daughter in a plane crash of Alaska Airlines Flight number 261 which crashed on 31 January 2000. You shall read more about the crash on visiting this site http://www.cnn.com/2000/US/02/01/alaska.airlines.list/ The owner of this account is Mr. Morris Thompson an American and great in industrialist and a resident of Alaska. It is therefore upon this discovery that I now decided to make this business proposal to you and for our bank to release the money to you. You have to follow the instruction which I will send to you as the next of kin or relation to the deceased for safety and subsequent disbursement since nobody is coming for it and I don't want this money to go into our bank treasury as unclaimed bill. The banking law and guidelines here stipulates that if such money remained unclaimed after Three years, the money will be transferred into the bank treasury as unclaimed fund. The money has now stayed more than three years and I am preparing documentation to prove that this money has been transferred to our bank treasury. It will be between me and you will know the money was not transferred into our treasure. The request of foreigner as next of kin in this transaction is occasioned by the fact that the customer was a foreigner and only a fellow white can stand as next of kin to him from the documents presented before us. In appreciation of your assistance, I am offering you 35% of the total sum. 5% for contingencies (cost of transfer/other charges) likely to be incurred during the course of transaction, while the remaining 55% is for me. Upon receipt of your reply, I will send to you by fax or email the text of the application, which you will complete, and forward to our bank asking for this money to be paid to you as the next of kin to Mr. Morris Thomson. I will not fail to bring to your notice that this transaction is hitch-free and that you should not entertain any fear or anticipate that you will be sending me any funds, as all required arrangements have been made for the transfer. You should contact me immediately as soon as you receive this mail through the above email. PLEASE DO NOT hesitate to contact me immediately should you consider my urgent request. Yours Faithfully, Mr. Clive Buthelezi nklelectronic@aim.com -- Dear friend I make this appeal with the understanding that any facts or opinion expressed by me are giving in confidence and solely for your personal information and use. I am Mr. Clive Buthelezi, the manager of bill and exchange at the foreign remittance department where I work. In my department I discovered an abandoned sum of amount in few millions in American currency, (US Dollars) with account number 8-32902701722 that belongs to one of our foreign customers who died along with his wife and only daughter in a plane crash of Alaska Airlines Flight number 261 which crashed on 31 January 2000. You shall read more about the crash on visiting this site http://www.cnn.com/2000/US/02/01/alaska.airlines.list/ The owner of this account is Mr. Morris Thompson an American and great in industrialist and a resident of Alaska. It is therefore upon this discovery that I now decided to make this business proposal to you and for our bank to release the money to you. You have to follow the instruction which I will send to you as the next of kin or relation to the deceased for safety and subsequent disbursement since nobody is coming for it and I don't want this money to go into our bank treasury as unclaimed bill. The banking law and guidelines here stipulates that if such money remained unclaimed after Three years, the money will be transferred into the bank treasury as unclaimed fund. The money has now stayed more than three years and I am preparing documentation to prove that this money has been transferred to our bank treasury. It will be between me and you will know the money was not transferred into our treasure. The request of foreigner as next of kin in this transaction is occasioned by the fact that the customer was a foreigner and only a fellow white can stand as next of kin to him from the documents presented before us. In appreciation of your assistance, I am offering you 35% of the total sum. 5% for contingencies (cost of transfer/other charges) likely to be incurred during the course of transaction, while the remaining 55% is for me. Upon receipt of your reply, I will send to you by fax or email the text of the application, which you will complete, and forward to our bank asking for this money to be paid to you as the next of kin to Mr. Morris Thomson. I will not fail to bring to your notice that this transaction is hitch-free and that you should not entertain any fear or anticipate that you will be sending me any funds, as all required arrangements have been made for the transfer. You should contact me immediately as soon as you receive this mail through the above email. PLEASE DO NOT hesitate to contact me immediately should you consider my urgent request. Yours Faithfully, Mr. Clive Buthelezi nklelectronic@aim.com -- Dear friend I make this appeal with the understanding that any facts or opinion expressed by me are giving in confidence and solely for your personal information and use. I am Mr. Clive Buthelezi, the manager of bill and exchange at the foreign remittance department where I work. In my department I discovered an abandoned sum of amount in few millions in American currency, (US Dollars) with account number 8-32902701722 that belongs to one of our foreign customers who died along with his wife and only daughter in a plane crash of Alaska Airlines Flight number 261 which crashed on 31 January 2000. You shall read more about the crash on visiting this site http://www.cnn.com/2000/US/02/01/alaska.airlines.list/ The owner of this account is Mr. Morris Thompson an American and great in industrialist and a resident of Alaska. It is therefore upon this discovery that I now decided to make this business proposal to you and for our bank to release the money to you. You have to follow the instruction which I will send to you as the next of kin or relation to the deceased for safety and subsequent disbursement since nobody is coming for it and I don't want this money to go into our bank treasury as unclaimed bill. The banking law and guidelines here stipulates that if such money remained unclaimed after Three years, the money will be transferred into the bank treasury as unclaimed fund. The money has now stayed more than three years and I am preparing documentation to prove that this money has been transferred to our bank treasury. It will be between me and you will know the money was not transferred into our treasure. The request of foreigner as next of kin in this transaction is occasioned by the fact that the customer was a foreigner and only a fellow white can stand as next of kin to him from the documents presented before us. In appreciation of your assistance, I am offering you 35% of the total sum. 5% for contingencies (cost of transfer/other charges) likely to be incurred during the course of transaction, while the remaining 55% is for me. Upon receipt of your reply, I will send to you by fax or email the text of the application, which you will complete, and forward to our bank asking for this money to be paid to you as the next of kin to Mr. Morris Thomson. I will not fail to bring to your notice that this transaction is hitch-free and that you should not entertain any fear or anticipate that you will be sending me any funds, as all required arrangements have been made for the transfer. You should contact me immediately as soon as you receive this mail through the above email. PLEASE DO NOT hesitate to contact me immediately should you consider my urgent request. Yours Faithfully, Mr. Clive Buthelezi nklelectronic@aim.com -- Dear friend I make this appeal with the understanding that any facts or opinion expressed by me are giving in confidence and solely for your personal information and use. I am Mr. Clive Buthelezi, the manager of bill and exchange at the foreign remittance department where I work. In my department I discovered an abandoned sum of amount in few millions in American currency, (US Dollars) with account number 8-32902701722 that belongs to one of our foreign customers who died along with his wife and only daughter in a plane crash of Alaska Airlines Flight number 261 which crashed on 31 January 2000. You shall read more about the crash on visiting this site http://www.cnn.com/2000/US/02/01/alaska.airlines.list/ The owner of this account is Mr. Morris Thompson an American and great in industrialist and a resident of Alaska. It is therefore upon this discovery that I now decided to make this business proposal to you and for our bank to release the money to you. You have to follow the instruction which I will send to you as the next of kin or relation to the deceased for safety and subsequent disbursement since nobody is coming for it and I don't want this money to go into our bank treasury as unclaimed bill. The banking law and guidelines here stipulates that if such money remained unclaimed after Three years, the money will be transferred into the bank treasury as unclaimed fund. The money has now stayed more than three years and I am preparing documentation to prove that this money has been transferred to our bank treasury. It will be between me and you will know the money was not transferred into our treasure. The request of foreigner as next of kin in this transaction is occasioned by the fact that the customer was a foreigner and only a fellow white can stand as next of kin to him from the documents presented before us. In appreciation of your assistance, I am offering you 35% of the total sum. 5% for contingencies (cost of transfer/other charges) likely to be incurred during the course of transaction, while the remaining 55% is for me. Upon receipt of your reply, I will send to you by fax or email the text of the application, which you will complete, and forward to our bank asking for this money to be paid to you as the next of kin to Mr. Morris Thomson. I will not fail to bring to your notice that this transaction is hitch-free and that you should not entertain any fear or anticipate that you will be sending me any funds, as all required arrangements have been made for the transfer. You should contact me immediately as soon as you receive this mail through the above email. PLEASE DO NOT hesitate to contact me immediately should you consider my urgent request. Yours Faithfully, Mr. Clive Buthelezi nklelectronic@aim.com -- Dear friend I make this appeal with the understanding that any facts or opinion expressed by me are giving in confidence and solely for your personal information and use. I am Mr. Clive Buthelezi, the manager of bill and exchange at the foreign remittance department where I work. In my department I discovered an abandoned sum of amount in few millions in American currency, (US Dollars) with account number 8-32902701722 that belongs to one of our foreign customers who died along with his wife and only daughter in a plane crash of Alaska Airlines Flight number 261 which crashed on 31 January 2000. You shall read more about the crash on visiting this site http://www.cnn.com/2000/US/02/01/alaska.airlines.list/ The owner of this account is Mr. Morris Thompson an American and great in industrialist and a resident of Alaska. It is therefore upon this discovery that I now decided to make this business proposal to you and for our bank to release the money to you. You have to follow the instruction which I will send to you as the next of kin or relation to the deceased for safety and subsequent disbursement since nobody is coming for it and I don't want this money to go into our bank treasury as unclaimed bill. The banking law and guidelines here stipulates that if such money remained unclaimed after Three years, the money will be transferred into the bank treasury as unclaimed fund. The money has now stayed more than three years and I am preparing documentation to prove that this money has been transferred to our bank treasury. It will be between me and you will know the money was not transferred into our treasure. The request of foreigner as next of kin in this transaction is occasioned by the fact that the customer was a foreigner and only a fellow white can stand as next of kin to him from the documents presented before us. In appreciation of your assistance, I am offering you 35% of the total sum. 5% for contingencies (cost of transfer/other charges) likely to be incurred during the course of transaction, while the remaining 55% is for me. Upon receipt of your reply, I will send to you by fax or email the text of the application, which you will complete, and forward to our bank asking for this money to be paid to you as the next of kin to Mr. Morris Thomson. I will not fail to bring to your notice that this transaction is hitch-free and that you should not entertain any fear or anticipate that you will be sending me any funds, as all required arrangements have been made for the transfer. You should contact me immediately as soon as you receive this mail through the above email. PLEASE DO NOT hesitate to contact me immediately should you consider my urgent request. Yours Faithfully, Mr. Clive Buthelezi nklelectronic@aim.com -- Dear friend I make this appeal with the understanding that any facts or opinion expressed by me are giving in confidence and solely for your personal information and use. I am Mr. Clive Buthelezi, the manager of bill and exchange at the foreign remittance department where I work. In my department I discovered an abandoned sum of amount in few millions in American currency, (US Dollars) with account number 8-32902701722 that belongs to one of our foreign customers who died along with his wife and only daughter in a plane crash of Alaska Airlines Flight number 261 which crashed on 31 January 2000. You shall read more about the crash on visiting this site http://www.cnn.com/2000/US/02/01/alaska.airlines.list/ The owner of this account is Mr. Morris Thompson an American and great in industrialist and a resident of Alaska. It is therefore upon this discovery that I now decided to make this business proposal to you and for our bank to release the money to you. You have to follow the instruction which I will send to you as the next of kin or relation to the deceased for safety and subsequent disbursement since nobody is coming for it and I don't want this money to go into our bank treasury as unclaimed bill. The banking law and guidelines here stipulates that if such money remained unclaimed after Three years, the money will be transferred into the bank treasury as unclaimed fund. The money has now stayed more than three years and I am preparing documentation to prove that this money has been transferred to our bank treasury. It will be between me and you will know the money was not transferred into our treasure. The request of foreigner as next of kin in this transaction is occasioned by the fact that the customer was a foreigner and only a fellow white can stand as next of kin to him from the documents presented before us. In appreciation of your assistance, I am offering you 35% of the total sum. 5% for contingencies (cost of transfer/other charges) likely to be incurred during the course of transaction, while the remaining 55% is for me. Upon receipt of your reply, I will send to you by fax or email the text of the application, which you will complete, and forward to our bank asking for this money to be paid to you as the next of kin to Mr. Morris Thomson. I will not fail to bring to your notice that this transaction is hitch-free and that you should not entertain any fear or anticipate that you will be sending me any funds, as all required arrangements have been made for the transfer. You should contact me immediately as soon as you receive this mail through the above email. PLEASE DO NOT hesitate to contact me immediately should you consider my urgent request. Yours Faithfully, Mr. Clive Buthelezi nklelectronic@aim.com -- Dear friend I make this appeal with the understanding that any facts or opinion expressed by me are giving in confidence and solely for your personal information and use. I am Mr. Clive Buthelezi, the manager of bill and exchange at the foreign remittance department where I work. In my department I discovered an abandoned sum of amount in few millions in American currency, (US Dollars) with account number 8-32902701722 that belongs to one of our foreign customers who died along with his wife and only daughter in a plane crash of Alaska Airlines Flight number 261 which crashed on 31 January 2000. You shall read more about the crash on visiting this site http://www.cnn.com/2000/US/02/01/alaska.airlines.list/ The owner of this account is Mr. Morris Thompson an American and great in industrialist and a resident of Alaska. It is therefore upon this discovery that I now decided to make this business proposal to you and for our bank to release the money to you. You have to follow the instruction which I will send to you as the next of kin or relation to the deceased for safety and subsequent disbursement since nobody is coming for it and I don't want this money to go into our bank treasury as unclaimed bill. The banking law and guidelines here stipulates that if such money remained unclaimed after Three years, the money will be transferred into the bank treasury as unclaimed fund. The money has now stayed more than three years and I am preparing documentation to prove that this money has been transferred to our bank treasury. It will be between me and you will know the money was not transferred into our treasure. The request of foreigner as next of kin in this transaction is occasioned by the fact that the customer was a foreigner and only a fellow white can stand as next of kin to him from the documents presented before us. In appreciation of your assistance, I am offering you 35% of the total sum. 5% for contingencies (cost of transfer/other charges) likely to be incurred during the course of transaction, while the remaining 55% is for me. Upon receipt of your reply, I will send to you by fax or email the text of the application, which you will complete, and forward to our bank asking for this money to be paid to you as the next of kin to Mr. Morris Thomson. I will not fail to bring to your notice that this transaction is hitch-free and that you should not entertain any fear or anticipate that you will be sending me any funds, as all required arrangements have been made for the transfer. You should contact me immediately as soon as you receive this mail through the above email. PLEASE DO NOT hesitate to contact me immediately should you consider my urgent request. Yours Faithfully, Mr. Clive Buthelezi nklelectronic@aim.com \n",
      "\n",
      "inmail.49945 \n",
      " From:  \"Nhi Maris\" <tenderizersgearing@numa-inc.com> \n",
      " To:  <simpsons@flax24.uwaterloo.ca> \n",
      " Subject:  Re: \n",
      " http://perhapsspeed.hk Viagra 4 pills X 100 mg FREE for every order! Special packs: - Viagra 30 pills X 100 mg $88.5 - Soma 30 pills X 350 mg $ 42.08 - Viagra 10 pills x 100 mg + Cialis 10 pills x 20 mg $ 68.72 Viagra Our price $1.86 Cialis Soft Tabs Our price $3.93 Viagra Soft Tabs Our price $1.08 Levitra Our price $2.71 Cialis Our price $2.69 Viagra Jelly Our price $2.31 Ultram Our price $0.71 Lipitor Our price $1.38 Soma Our price $0.42 Zoloft Our price $0.92 Zocor Our price $0.95 Prozac Our price $1.99 Testosterone Our price $3.67 Herbal Phentermine Our price $0.83 Celebrex Our price $0.75 http://perhapsspeed.hk \n",
      "\n",
      "inmail.49306 \n",
      " From:  \"Nageen Mc Phail\" <quotasalbee@smokymountainsbestreadguide.com> \n",
      " To:  <9ec06fdb@flax9.uwaterloo.ca> \n",
      " Subject:  Re: \n",
      " http://planshow.hk Viagra 4 pills X 100 mg FREE for every order! Special packs: - Viagra 30 pills X 100 mg $ 88.5- Soma 30 pills X 350 mg $42.08 - Viagra 10 pills x 100 mg + Cialis 10 pills x 20 mg $ 68.72Cialis Soft Tabs Our price $3.93 Viagra Our price $1.86 Viagra Soft Tabs Our price $1.08 Levitra Our price $2.71 Viagra JellyOur price $2.31 Cialis Our price $2.69 Soma Our price $0.42 Lipitor Our price $1.38 Ultram Our price $0.71 Prozac Our price $1.99 Zoloft Our price $0.92 Zocor Our price $0.95 Celebrex Our price $0.75 TestosteroneOur price $3.67 Herbal Phentermine Our price $0.83 http://planshow.hk \n",
      "\n",
      "Score:  0.7195767195767195\n"
     ]
    }
   ],
   "source": [
    "run_trials(X_train_b, y_train_b, X_test_b, y_test_b, 3, 'log_reg')"
   ]
  },
  {
   "cell_type": "markdown",
   "metadata": {},
   "source": [
    "#### Naive Bayes (Bernoulli)"
   ]
  },
  {
   "cell_type": "code",
   "execution_count": 52,
   "metadata": {
    "ExecuteTime": {
     "end_time": "2020-08-03T02:10:32.504113Z",
     "start_time": "2020-08-03T02:10:31.206896Z"
    }
   },
   "outputs": [
    {
     "name": "stdout",
     "output_type": "stream",
     "text": [
      "inmail.24368 \n",
      " From:  \"Catalina Singleton\" <c_singleton_uq@superonline.com> \n",
      " To:  adtrevor@plg2.math.uwaterloo.ca, adtrevors@plg2.math.uwaterloo.ca,\n",
      "   the00@plg2.math.uwaterloo.ca \n",
      " Subject:  Cheap Prices for Meds. Viagra,Cialis,Xanax,Valium,Ambien    7xa5w \n",
      " Dear adtrevor@plg2.math.uwaterloo.ca http://leturri.com Our New offshore pharmacy is open. Fast Worldwide delivery Anonymouse shipping Low prices http://leturri.com Thanks Rebeca Anniston adtrevor@plg2.math.uwaterloo.ca wrote: > Cheap Prices for Meds. Viagra,Cialis,Xanax,Valium,Ambien 1pwurw15l6- \n",
      "\n",
      "inmail.1723 \n",
      " From:  \"Autobytel Newsletter\" <Autobytel@enews.autobytel.com> \n",
      " To:  <ktwarwic@speedy.uwaterloo.ca> \n",
      " Subject:  Your April automotive updates from Autobytel \n",
      " Dear warwick@plg.uwaterloo.ca http://dedekkio.com Our New offshore pharmacy is open. Fast Worldwide delivery Anonymouse shipping Low prices http://dedekkio.com Thanks Jennifer Cassidy warwick@plg.uwaterloo.ca wrote: > Cheap Prices for Meds. Viagra,Cialis,Xanax,Valium,Ambien lb70jf1owl- \n",
      "\n",
      "inmail.68703 \n",
      " From:  \"Hanna Natasha\" <mark@mgoudy.wanadoo.co.uk> \n",
      " To:  <ktwarwic@flax9.uwaterloo.ca> \n",
      " Subject:  Problems? We know as you to help! \n",
      " Hello, You wish to be the champion in sex? Prices that no competition know:Mega Action: 4 Viagra pills FOR FREE for EVERY ORDER! Viagra - 1.79 $ Cialis - 2.69 $ Valium - 2.48 $ Xanax - 2$--- + Best quality drugs + Visa Verified Shop + Special internet prices + Buy without prescription + Fast worldwide shipping + Friendly customer support > Our Site: WWW. FreshStore .Hk Type in browser(without spaces) and press Enter. \n",
      "\n",
      "Score:  0.7168813017869622\n"
     ]
    }
   ],
   "source": [
    "run_trials(X_train_b, y_train_b, X_test_b, y_test_b, 3, 'naive_b')"
   ]
  },
  {
   "cell_type": "markdown",
   "metadata": {},
   "source": [
    "## Part 2: All unigrams as features\n",
    "\n",
    "A feature matrix should contain a column/feature for every unigram extracted from training documents. You will have to use a particular data format described in class (note, toy example), since the full matrix becomes too big. Write the matrix and auxiliary files on disk. \n",
    "\n",
    "Given the requirements on data cleaning, you should not have too many unigrams, but still many enough to have to use a sparse representation.\n",
    "\n",
    "### Extracting all unigrams using Elastic Search calls\n",
    "\n",
    "This is no diffeernt than part1 in terms of the ES calls, but you'd have to first generate a list with all unigrams.\n",
    "If you dont use ES, this can be a tricky step, but there are python (poor) or java (better) libraries to extract all unigrams from all docs. Keep in mind that extracting all ngrams (say up to n=5) is a difficult problem at scale."
   ]
  },
  {
   "cell_type": "code",
   "execution_count": 53,
   "metadata": {
    "ExecuteTime": {
     "end_time": "2020-08-03T02:10:41.127410Z",
     "start_time": "2020-08-03T02:10:41.124955Z"
    }
   },
   "outputs": [],
   "source": [
    "# part2_doc_data = {}\n",
    "# part2_spam_data = {}\n",
    "\n",
    "# body = {\"fields\" : [\"content\"],\"offsets\" : False,\"positions\" : False,\"term_statistics\" : True,\\\n",
    "#             \"field_statistics\" : True}\n",
    "\n",
    "# for i in tqdm(email_list, desc = \"emails\"):\n",
    "\n",
    "#     try:\n",
    "#         result = es.termvectors(index = \"sham\", body = body, id = i)\n",
    "\n",
    "\n",
    "#         term_list = [(key, value['term_freq']) for key,\n",
    "#                      value in result['term_vectors']['content']['terms'].items() if key.isalpha()]\n",
    "        \n",
    "#         if spam[i] == 'spam': # Make spam/ham binary 0/1\n",
    "#             spam_res = 0\n",
    "#         else:\n",
    "#             spam_res = 1\n",
    "        \n",
    "#         part2_spam_data[i] = spam_res\n",
    "\n",
    "#         part2_doc_data[i] = term_list\n",
    "        \n",
    "#     except:\n",
    "#         continue\n",
    "        "
   ]
  },
  {
   "cell_type": "code",
   "execution_count": 54,
   "metadata": {
    "ExecuteTime": {
     "end_time": "2020-08-03T02:10:41.348006Z",
     "start_time": "2020-08-03T02:10:41.339435Z"
    }
   },
   "outputs": [],
   "source": [
    "# with open('part2_doc_data.json', 'w', encoding='utf-8') as f:\n",
    "#     json.dump(part2_doc_data, f, ensure_ascii=False, indent=4)\n",
    "    \n",
    "# with open('part2_spam_data.json', 'w', encoding='utf-8') as f:\n",
    "#     json.dump(part2_spam_data, f, ensure_ascii=False, indent=4)"
   ]
  },
  {
   "cell_type": "code",
   "execution_count": 55,
   "metadata": {
    "ExecuteTime": {
     "end_time": "2020-08-03T02:10:45.613068Z",
     "start_time": "2020-08-03T02:10:41.566016Z"
    }
   },
   "outputs": [],
   "source": [
    "with open('part2_doc_data.json') as json_file:\n",
    "    part2_doc_data = json.load(json_file)\n",
    "    \n",
    "with open('part2_spam_data.json') as json_file:\n",
    "    part2_spam_data = json.load(json_file)"
   ]
  },
  {
   "cell_type": "markdown",
   "metadata": {},
   "source": [
    "### Build a set of all features from ES and a numerical index of features for the Compact Sparse Row matrix"
   ]
  },
  {
   "cell_type": "code",
   "execution_count": 56,
   "metadata": {
    "ExecuteTime": {
     "end_time": "2020-08-03T02:10:49.080400Z",
     "start_time": "2020-08-03T02:10:48.082137Z"
    }
   },
   "outputs": [
    {
     "data": {
      "application/vnd.jupyter.widget-view+json": {
       "model_id": "25f0c76e52984c468371470cf0bbc089",
       "version_major": 2,
       "version_minor": 0
      },
      "text/plain": [
       "HBox(children=(IntProgress(value=0, max=69921), HTML(value='')))"
      ]
     },
     "metadata": {},
     "output_type": "display_data"
    },
    {
     "name": "stdout",
     "output_type": "stream",
     "text": [
      "\n"
     ]
    }
   ],
   "source": [
    "feature_set = set()\n",
    "feature_index = {}\n",
    "\n",
    "# get unique features from part2_doc_data (add list items to a set)\n",
    "for key,value in tqdm(part2_doc_data.items()):\n",
    "    for item in value:\n",
    "        feature_set.add(item[0])\n",
    "\n",
    "# add each feature to a dictionary and provide an index number for it\n",
    "f_index = 0\n",
    "for i in feature_set:\n",
    "    feature_index[i] = f_index\n",
    "    f_index += 1"
   ]
  },
  {
   "cell_type": "markdown",
   "metadata": {},
   "source": [
    "### Build sparse matrix"
   ]
  },
  {
   "cell_type": "code",
   "execution_count": 81,
   "metadata": {
    "ExecuteTime": {
     "end_time": "2020-08-03T02:33:08.606168Z",
     "start_time": "2020-08-03T02:33:06.250358Z"
    }
   },
   "outputs": [
    {
     "data": {
      "application/vnd.jupyter.widget-view+json": {
       "model_id": "aa318772510e42e98b22562abffa5529",
       "version_major": 2,
       "version_minor": 0
      },
      "text/plain": [
       "HBox(children=(IntProgress(value=0, max=69921), HTML(value='')))"
      ]
     },
     "metadata": {},
     "output_type": "display_data"
    },
    {
     "name": "stdout",
     "output_type": "stream",
     "text": [
      "\n"
     ]
    }
   ],
   "source": [
    "from scipy.sparse import csr_matrix\n",
    "\n",
    "data = []\n",
    "indices = []\n",
    "indptr = []\n",
    "\n",
    "prev_idx = 0\n",
    "total = 0\n",
    "for key, value in tqdm(part2_doc_data.items()):\n",
    "    for item in value:\n",
    "        data.append(item[1])\n",
    "        indices.append(feature_index[item[0]]) # get numerical index for term\n",
    "    indptr.append(prev_idx)\n",
    "    prev_idx += len(value)\n",
    "    total += len(value)\n",
    "indptr.append(total) # sum of values\n",
    "                  \n",
    "data = np.array(data)\n",
    "indices = np.array(indices)\n",
    "indptr = np.array(indptr)\n",
    "\n",
    "part2_sparse = csr_matrix((data, indices, indptr), shape=(len(part2_doc_data), len(feature_set)))"
   ]
  },
  {
   "cell_type": "markdown",
   "metadata": {},
   "source": [
    "### Build \"sparse\" spam matrix (y values)"
   ]
  },
  {
   "cell_type": "code",
   "execution_count": 82,
   "metadata": {
    "ExecuteTime": {
     "end_time": "2020-08-03T02:33:09.922398Z",
     "start_time": "2020-08-03T02:33:09.914653Z"
    }
   },
   "outputs": [],
   "source": [
    "spam_list = list(part2_spam_data.values())\n",
    "spam_array = np.array(spam_list)"
   ]
  },
  {
   "cell_type": "markdown",
   "metadata": {},
   "source": [
    "### Train / Test Split on CSR data"
   ]
  },
  {
   "cell_type": "code",
   "execution_count": 83,
   "metadata": {
    "ExecuteTime": {
     "end_time": "2020-08-03T02:33:11.156316Z",
     "start_time": "2020-08-03T02:33:11.118215Z"
    }
   },
   "outputs": [],
   "source": [
    "# Added a \"split\" field to ES, but forgot to use it\n",
    "X_train_2, X_test_2, y_train_2, y_test_2 = train_test_split(part2_sparse, spam_array, test_size=0.2, stratify = None, random_state=43)"
   ]
  },
  {
   "cell_type": "markdown",
   "metadata": {
    "ExecuteTime": {
     "end_time": "2020-08-03T01:35:17.841551Z",
     "start_time": "2020-08-03T01:35:17.837554Z"
    }
   },
   "source": [
    "### Data Format\n",
    "In Pyramid, each dataset is stored as a folder with two files in it, feature_matrix.txt and config.txt. "
   ]
  },
  {
   "cell_type": "code",
   "execution_count": 93,
   "metadata": {
    "ExecuteTime": {
     "end_time": "2020-08-03T14:23:39.878425Z",
     "start_time": "2020-08-03T14:23:39.831248Z"
    }
   },
   "outputs": [],
   "source": [
    "# feature_matrix.txt\n",
    "# Label Feature:Value Feature:Value\n",
    "# 1 0:4 2:8 3:2\n",
    "# 0 1:3 3:5\n",
    "\n",
    "# config.txt\n",
    "# numDataPoints=7077\n",
    "# numFeatures=49060\n",
    "# missingValue=false\n",
    "# numClasses=2\n",
    "\n",
    "# with open(\"pyramid/train/feature_matrix.txt\", \"w+\") as train_feat,\\\n",
    "# open(\"pyramid/test/feature_matrix.txt\", \"w+\") as test_feat, open(\"pyramid/train/config.txt\", \"w+\") as train_config,\\\n",
    "# open(\"pyramid/test/config.txt\", \"w+\") as test_config:\n",
    "\n",
    "#     numDataPoints_train = 0\n",
    "#     numDataPoints_test = 0\n",
    "#     numFeatures_train = 0\n",
    "#     numFeatures_test = 0\n",
    "    \n",
    "#     train_test_list = [X_train_2, X_test_2]\n",
    "    \n",
    "#     count = 0\n",
    "#     for i in train_test_list:\n",
    "        \n",
    "#         if count == 0:\n",
    "#             numFeatures_train = i.shape[1]\n",
    "#         else:\n",
    "#             numFeatures_test = i.shape[1]\n",
    "        \n",
    "#         for j in range(i.shape[0]):\n",
    "#             sparse_row_mat = i.getrow(j)\n",
    "#             row_mat = sparse_row_mat.todense()\n",
    "#             row_values = row_mat[np.nonzero(row_mat)].tolist()[0]\n",
    "\n",
    "#             row_indicies = sparse_row_mat.indices\n",
    "#             idx_val_tuples = list(zip(row_indicies, row_values))\n",
    "#             pyramid_features = [str(j[0]) + ':' + str(j[1]) for j in idx_val_tuples]\n",
    "#             spam_status = [str(spam_list[j])]\n",
    "#             pyramid_row = ' '.join(spam_status + pyramid_features)\n",
    "            \n",
    "#             if count == 0: # Train\n",
    "#                 numDataPoints_train += len(row_values)\n",
    "                \n",
    "#                 train_feat.write(pyramid_row + \"\\n\")\n",
    "                \n",
    "#             else: # Test\n",
    "#                 numDataPoints_test += len(row_values)\n",
    "                                \n",
    "#                 test_feat.write(pyramid_row + \"\\n\")\n",
    "\n",
    "#         count += 1\n",
    "        \n",
    "            \n",
    "#     train_config_list = ['numDataPoints='+str(numDataPoints_train), \"numFeatures=\"+str(numFeatures_train), \n",
    "#                          \"missingValue=false\", \"numClasses=2\"]\n",
    "    \n",
    "#     for train in train_config_list:\n",
    "#         train_config.write(train + \"\\n\")\n",
    "        \n",
    "#     test_config_list = ['numDataPoints='+str(numDataPoints_test), \"numFeatures=\"+str(numFeatures_test), \n",
    "#                          \"missingValue=false\", \"numClasses=2\"]\n",
    "    \n",
    "#     for test in test_config_list:\n",
    "#         test_config.write(test + \"\\n\")"
   ]
  },
  {
   "cell_type": "markdown",
   "metadata": {},
   "source": [
    "### Training and testing\n",
    "Once the feature matrices are ready (one for training, the second for testing), run either LibLinear Regression (with sparse input)  or a learning algorithm implemented by us to take advantage of the sparse data representations."
   ]
  },
  {
   "cell_type": "code",
   "execution_count": 94,
   "metadata": {
    "ExecuteTime": {
     "end_time": "2020-08-03T14:36:04.489796Z",
     "start_time": "2020-08-03T14:30:20.506649Z"
    }
   },
   "outputs": [],
   "source": [
    "rand_forest2 = RandomForestClassifier(n_estimators=10, max_depth=50, min_samples_split=2, random_state=43)\n",
    "\n",
    "rand_forest2_cross_val = cross_val_score(rand_forest2, X_train_2, y_train_2, scoring='accuracy', cv=5).mean()\n",
    "rand_forest2.fit(X_train_2, y_train_2)\n",
    "rand_forest2.predict(X_test_2)\n",
    "rand_forest2_predictions = rand_forest2.predict_proba(X_test_2)\n",
    "rand_forest2_score = rand_forest2.score(X_test_2,y_test_2)"
   ]
  },
  {
   "cell_type": "code",
   "execution_count": 95,
   "metadata": {
    "ExecuteTime": {
     "end_time": "2020-08-03T14:36:04.526923Z",
     "start_time": "2020-08-03T14:36:04.498022Z"
    }
   },
   "outputs": [
    {
     "data": {
      "text/plain": [
       "0.856417590275295"
      ]
     },
     "execution_count": 95,
     "metadata": {},
     "output_type": "execute_result"
    }
   ],
   "source": [
    "rand_forest2_score "
   ]
  },
  {
   "cell_type": "markdown",
   "metadata": {},
   "source": [
    "### Feature analysis\n",
    "Identify from the training log/model the top (most important) spam unigrams. Do they match your manual spam features from part 1?"
   ]
  },
  {
   "cell_type": "code",
   "execution_count": 111,
   "metadata": {
    "ExecuteTime": {
     "end_time": "2020-08-03T15:17:48.345023Z",
     "start_time": "2020-08-03T15:17:48.339678Z"
    }
   },
   "outputs": [],
   "source": [
    "# The two lists from Part 1 combined, made distinct, and snowball stemmed\n",
    "# from nltk.stem.snowball import SnowballStemmer\n",
    "# sno = SnowballStemmer('english')\n",
    "\n",
    "from nltk.stem import PorterStemmer\n",
    "ps = PorterStemmer()\n",
    "\n",
    "part1_list = [ps.stem(i) for i in list(set(trial_a_list + trial_b_list))]"
   ]
  },
  {
   "cell_type": "markdown",
   "metadata": {},
   "source": [
    "#### This is a function to print the feature analysis of the sklearn random forest implementation"
   ]
  },
  {
   "cell_type": "code",
   "execution_count": 130,
   "metadata": {
    "ExecuteTime": {
     "end_time": "2020-08-03T19:06:51.088981Z",
     "start_time": "2020-08-03T19:06:51.079318Z"
    }
   },
   "outputs": [],
   "source": [
    "def feature_analysis(top_n, part_1_list):\n",
    "\n",
    "    importances = list(rand_forest2.feature_importances_)\n",
    "    features = list(feature_set)\n",
    "    feature_importances = list(zip(features, importances))\n",
    "    sorted_feature_importances = sorted(feature_importances, key=lambda tup: tup[1], reverse = True )[:top_n]\n",
    "    \n",
    "    feature_importantance_list = [i[0] for i in sorted_feature_importances]\n",
    "        \n",
    "    count = 0\n",
    "    crossover_list = []\n",
    "\n",
    "    for i in part1_list:\n",
    "        if i in feature_importantance_list:\n",
    "            crossover_list.append(i)\n",
    "            count +=1\n",
    "    \n",
    "    crossover_percent = str(round((count / len(part1_list)) * 100,1))+'%'\n",
    "    \n",
    "    print(\"Top \", top_n, \", Crossover Percent: \", crossover_percent, crossover_list)  "
   ]
  },
  {
   "cell_type": "code",
   "execution_count": 131,
   "metadata": {
    "ExecuteTime": {
     "end_time": "2020-08-03T19:06:51.562294Z",
     "start_time": "2020-08-03T19:06:51.397610Z"
    }
   },
   "outputs": [
    {
     "name": "stdout",
     "output_type": "stream",
     "text": [
      "Top  20 , Crossover Percent:  1.1% ['price']\n"
     ]
    }
   ],
   "source": [
    "feature_analysis(20, part1_list)"
   ]
  },
  {
   "cell_type": "code",
   "execution_count": 132,
   "metadata": {
    "ExecuteTime": {
     "end_time": "2020-08-03T19:06:51.794428Z",
     "start_time": "2020-08-03T19:06:51.643685Z"
    }
   },
   "outputs": [
    {
     "name": "stdout",
     "output_type": "stream",
     "text": [
      "Top  100 , Crossover Percent:  5.7% ['price', 'fast', 'click', 'unsolicit', 'subscrib']\n"
     ]
    }
   ],
   "source": [
    "feature_analysis(100, part1_list)"
   ]
  },
  {
   "cell_type": "code",
   "execution_count": 133,
   "metadata": {
    "ExecuteTime": {
     "end_time": "2020-08-03T19:06:51.994623Z",
     "start_time": "2020-08-03T19:06:51.820412Z"
    }
   },
   "outputs": [
    {
     "name": "stdout",
     "output_type": "stream",
     "text": [
      "Top  1000 , Crossover Percent:  36.8% ['join', 'win', 'free', 'order', 'ad', 'addit', 'celebr', 'appli', 'limit', 'price', 'dollar', 'check', 'home', 'credit', 'medicin', 'visit', 'fast', 'amaz', 'success', 'million', 'collect', 'weight', 'remov', 'singl', 'click', 'websit', 'legal', 'interest', 'chanc', 'unsolicit', 'access', 'subscrib']\n"
     ]
    }
   ],
   "source": [
    "feature_analysis(1000, part1_list)"
   ]
  },
  {
   "cell_type": "code",
   "execution_count": 134,
   "metadata": {
    "ExecuteTime": {
     "end_time": "2020-08-03T19:06:52.172063Z",
     "start_time": "2020-08-03T19:06:51.998327Z"
    }
   },
   "outputs": [
    {
     "name": "stdout",
     "output_type": "stream",
     "text": [
      "Top  5000 , Crossover Percent:  72.4% ['trial', 'instant', 'accept', 'join', 'win', 'direct', 'lower', 'freedom', 'free', 'order', 'ad', 'lose', 'addit', 'rate', 'celebr', 'malwar', 'perform', 'appli', 'limit', 'extra', 'clearanc', 'act', 'incred', 'price', 'sale', 'refin', 'avoid', 'dollar', 'afford', 'check', 'home', 'credit', 'prize', 'incom', 'medicin', 'visit', 'fast', 'amaz', 'viagra', 'success', 'million', 'collect', 'viru', 'bonu', 'weight', 'luxuri', 'remov', 'singl', 'click', 'compar', 'cash', 'websit', 'meet', 'legal', 'interest', 'chanc', 'hidden', 'earn', 'unsolicit', 'access', 'deal', 'spam', 'subscrib']\n"
     ]
    }
   ],
   "source": [
    "feature_analysis(5000, part1_list)"
   ]
  },
  {
   "cell_type": "code",
   "execution_count": 135,
   "metadata": {
    "ExecuteTime": {
     "end_time": "2020-08-03T19:06:52.353255Z",
     "start_time": "2020-08-03T19:06:52.179664Z"
    }
   },
   "outputs": [
    {
     "name": "stdout",
     "output_type": "stream",
     "text": [
      "Top  10000 , Crossover Percent:  80.5% ['trial', 'instant', 'accept', 'join', 'win', 'direct', 'lower', 'loan', 'profit', 'freedom', 'shopper', 'free', 'order', 'ad', 'lose', 'addit', 'rate', 'celebr', 'malwar', 'perform', 'appli', 'limit', 'diagnost', 'extra', 'clearanc', 'act', 'incred', 'price', 'sale', 'bald', 'refin', 'avoid', 'dollar', 'afford', 'check', 'home', 'credit', 'prize', 'bargain', 'incom', 'medicin', 'visit', 'fast', 'amaz', 'viagra', 'boss', 'success', 'million', 'collect', 'viru', 'bonu', 'weight', 'luxuri', 'remov', 'singl', 'click', 'compar', 'cash', 'websit', 'meet', 'legal', 'interest', 'chanc', 'hidden', 'earn', 'unsolicit', 'access', 'deal', 'spam', 'subscrib']\n"
     ]
    }
   ],
   "source": [
    "feature_analysis(10000, part1_list)"
   ]
  }
 ],
 "metadata": {
  "kernelspec": {
   "display_name": "Python 3",
   "language": "python",
   "name": "python3"
  },
  "language_info": {
   "codemirror_mode": {
    "name": "ipython",
    "version": 3
   },
   "file_extension": ".py",
   "mimetype": "text/x-python",
   "name": "python",
   "nbconvert_exporter": "python",
   "pygments_lexer": "ipython3",
   "version": "3.7.4"
  }
 },
 "nbformat": 4,
 "nbformat_minor": 2
}
